{
 "cells": [
  {
   "cell_type": "code",
   "execution_count": 78,
   "metadata": {},
   "outputs": [],
   "source": [
    "import pandas as pd\n",
    "import requests\n",
    "import json\n",
    "import numpy as np\n",
    "from collections import Counter"
   ]
  },
  {
   "cell_type": "code",
   "execution_count": 185,
   "metadata": {},
   "outputs": [],
   "source": [
    "songdata = pd.read_csv('C:/Users/peter/Desktop/Winter 2020/Data Mining Principles/Class_Project/songdata.csv')"
   ]
  },
  {
   "cell_type": "code",
   "execution_count": 197,
   "metadata": {},
   "outputs": [],
   "source": [
    "artists = pd.DataFrame(songdata['artist'].unique())\n",
    "artists[1] = np.nan\n",
    "artists = np.array(artists, dtype=object)\n",
    "artists = artists[artists[:,0] != 'Horrible Histories',:]"
   ]
  },
  {
   "cell_type": "markdown",
   "metadata": {},
   "source": [
    "### Use your own authorization.\n",
    "\n",
    "Get it here: https://developer.spotify.com/console/get-current-user-top-artists-and-tracks/?type=artists&time_range=&limit=&offset="
   ]
  },
  {
   "cell_type": "code",
   "execution_count": 15,
   "metadata": {},
   "outputs": [],
   "source": [
    "bearer = 'Bearer BQBk62QQZpzWara85JpHwfVwD9z1oTDqX5Ag8EYoc_4brkGBzDFdKOHtpXrjluLUWjxz35F3BrvDrxszSqjMFtOBTcRWhAVHMHLbiAqKaAw4ZGoTzzE3YR_9_45r5zCebQjILX1o5y0859qGoclqp32YdiA2JXDEdXJvaMmW-2d5Kg'"
   ]
  },
  {
   "cell_type": "code",
   "execution_count": 38,
   "metadata": {},
   "outputs": [],
   "source": [
    "def spotify_name(name):\n",
    "    \n",
    "    headers = {\n",
    "    'Accept': 'application/json',\n",
    "    'Content-Type': 'application/json',\n",
    "    'Authorization': bearer,\n",
    "        }\n",
    "\n",
    "    params = (\n",
    "        ('limit', '1'),\n",
    "        ('offset', '0'),\n",
    "    )\n",
    "    name = name\n",
    "    link = 'https://api.spotify.com/v1/search?q=' + name + '&type=artist'\n",
    "    response = requests.get(link, headers=headers, params=params)\n",
    "    data = response.text\n",
    "    data = json.loads(data)\n",
    "    genres = data['artists']['items'][0]['genres']\n",
    "    return genres"
   ]
  },
  {
   "cell_type": "code",
   "execution_count": 39,
   "metadata": {},
   "outputs": [],
   "source": [
    "for i in range(0,len(artists)):\n",
    "    artists[i,1] = spotify_name(artists[i,0])"
   ]
  },
  {
   "cell_type": "code",
   "execution_count": 40,
   "metadata": {},
   "outputs": [],
   "source": [
    "np.save('artists.npy', artists)"
   ]
  },
  {
   "cell_type": "code",
   "execution_count": 236,
   "metadata": {},
   "outputs": [],
   "source": [
    "apple = np.load('artists.npy',allow_pickle = True)\n",
    "#apple.tolist()\n",
    "#print(apple)"
   ]
  },
  {
   "cell_type": "code",
   "execution_count": 237,
   "metadata": {},
   "outputs": [
    {
     "data": {
      "text/plain": [
       "518"
      ]
     },
     "execution_count": 237,
     "metadata": {},
     "output_type": "execute_result"
    }
   ],
   "source": [
    "tags = list(df.iloc[:,1].sum())\n",
    "uniquetags = list(set(df.iloc[:,1].sum()))\n",
    "len(uniquetags)"
   ]
  },
  {
   "cell_type": "code",
   "execution_count": 246,
   "metadata": {},
   "outputs": [],
   "source": [
    "#list of tags that occur > 50 times\n",
    "labels = ['rock','singer-songwriter','pop','metal','folk','country','hip hop','rap']"
   ]
  },
  {
   "cell_type": "code",
   "execution_count": 247,
   "metadata": {},
   "outputs": [
    {
     "data": {
      "text/plain": [
       "[('rock', 170),\n",
       " ('mellow gold', 106),\n",
       " ('soft rock', 105),\n",
       " ('classic rock', 99),\n",
       " ('album rock', 93),\n",
       " ('singer-songwriter', 71),\n",
       " ('folk rock', 69),\n",
       " ('dance pop', 67),\n",
       " ('pop', 66),\n",
       " ('new wave pop', 64),\n",
       " ('adult standards', 63),\n",
       " ('hard rock', 62),\n",
       " ('dance rock', 57),\n",
       " ('pop rock', 55),\n",
       " ('art rock', 55),\n",
       " ('country rock', 54),\n",
       " ('folk', 52),\n",
       " ('permanent wave', 49),\n",
       " ('roots rock', 40),\n",
       " ('alternative rock', 39),\n",
       " ('new wave', 37),\n",
       " ('post-grunge', 34),\n",
       " ('new romantic', 34),\n",
       " ('blues rock', 33),\n",
       " ('metal', 33),\n",
       " ('psychedelic rock', 31),\n",
       " ('europop', 29),\n",
       " ('post-teen pop', 29),\n",
       " ('rap', 29),\n",
       " ('hip hop', 29)]"
      ]
     },
     "execution_count": 247,
     "metadata": {},
     "output_type": "execute_result"
    }
   ],
   "source": [
    "Counter(tags).most_common(30)"
   ]
  },
  {
   "cell_type": "code",
   "execution_count": 355,
   "metadata": {},
   "outputs": [],
   "source": [
    "def sub(sub,list):\n",
    "    out = any(sub in i for i in list)\n",
    "    return out"
   ]
  },
  {
   "cell_type": "code",
   "execution_count": 356,
   "metadata": {},
   "outputs": [],
   "source": [
    "df = pd.DataFrame(apple)"
   ]
  },
  {
   "cell_type": "code",
   "execution_count": 357,
   "metadata": {},
   "outputs": [],
   "source": [
    "for lab in labels:\n",
    "    df[lab] = list(map(sub,np.repeat(lab,len(df)),df.iloc[:,1]))"
   ]
  },
  {
   "cell_type": "code",
   "execution_count": 358,
   "metadata": {},
   "outputs": [],
   "source": [
    "df['hip hop / rap'] = np.logical_or(df['hip hop'],df['rap'])\n",
    "df = df.drop(['hip hop','rap'],axis = 1)"
   ]
  },
  {
   "cell_type": "code",
   "execution_count": 359,
   "metadata": {},
   "outputs": [],
   "source": [
    "df.rename(columns = {0 : 'artist', 1 : 'genres'}, inplace = True) "
   ]
  },
  {
   "cell_type": "code",
   "execution_count": 360,
   "metadata": {},
   "outputs": [
    {
     "data": {
      "text/plain": [
       "rock                 371\n",
       "singer-songwriter     74\n",
       "pop                  271\n",
       "metal                 79\n",
       "folk                  97\n",
       "country               75\n",
       "hip hop / rap         68\n",
       "dtype: int64"
      ]
     },
     "execution_count": 360,
     "metadata": {},
     "output_type": "execute_result"
    }
   ],
   "source": [
    "df.drop(['artist','genres'],axis = 1).sum()"
   ]
  },
  {
   "cell_type": "code",
   "execution_count": 386,
   "metadata": {},
   "outputs": [],
   "source": [
    "df.iloc[:,2:] = df.iloc[:,2:].astype(int)"
   ]
  },
  {
   "cell_type": "code",
   "execution_count": 395,
   "metadata": {},
   "outputs": [],
   "source": [
    "#pickle just the genres\n",
    "df.to_pickle(\"./genres.pkl\")"
   ]
  },
  {
   "cell_type": "code",
   "execution_count": 396,
   "metadata": {},
   "outputs": [],
   "source": [
    "df = pd.read_pickle(\"./genres.pkl\")"
   ]
  },
  {
   "cell_type": "code",
   "execution_count": 387,
   "metadata": {},
   "outputs": [],
   "source": [
    "genres = pd.merge(songdata, df, on=['artist','artist'])\n",
    "genres = genres[genres.iloc[:,5:].any(axis = 1)]"
   ]
  },
  {
   "cell_type": "code",
   "execution_count": 390,
   "metadata": {},
   "outputs": [
    {
     "name": "stdout",
     "output_type": "stream",
     "text": [
      "<class 'pandas.core.frame.DataFrame'>\n",
      "Int64Index: 51489 entries, 0 to 57595\n",
      "Data columns (total 12 columns):\n",
      "artist               51489 non-null object\n",
      "song                 51489 non-null object\n",
      "link                 51489 non-null object\n",
      "text                 51489 non-null object\n",
      "genres               51489 non-null object\n",
      "rock                 51489 non-null int32\n",
      "singer-songwriter    51489 non-null int32\n",
      "pop                  51489 non-null int32\n",
      "metal                51489 non-null int32\n",
      "folk                 51489 non-null int32\n",
      "country              51489 non-null int32\n",
      "hip hop / rap        51489 non-null int32\n",
      "dtypes: int32(7), object(5)\n",
      "memory usage: 3.7+ MB\n"
     ]
    }
   ],
   "source": [
    "data.info()"
   ]
  }
 ],
 "metadata": {
  "kernelspec": {
   "display_name": "Python 3",
   "language": "python",
   "name": "python3"
  },
  "language_info": {
   "codemirror_mode": {
    "name": "ipython",
    "version": 3
   },
   "file_extension": ".py",
   "mimetype": "text/x-python",
   "name": "python",
   "nbconvert_exporter": "python",
   "pygments_lexer": "ipython3",
   "version": "3.7.4"
  }
 },
 "nbformat": 4,
 "nbformat_minor": 2
}
