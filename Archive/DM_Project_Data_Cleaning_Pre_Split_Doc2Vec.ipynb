{
 "cells": [
  {
   "cell_type": "code",
   "execution_count": 1,
   "metadata": {
    "scrolled": true
   },
   "outputs": [
    {
     "name": "stderr",
     "output_type": "stream",
     "text": [
      "[nltk_data] Downloading package wordnet to\n",
      "[nltk_data]     C:\\Users\\tianj\\AppData\\Roaming\\nltk_data...\n",
      "[nltk_data]   Package wordnet is already up-to-date!\n"
     ]
    },
    {
     "data": {
      "text/plain": [
       "True"
      ]
     },
     "execution_count": 1,
     "metadata": {},
     "output_type": "execute_result"
    }
   ],
   "source": [
    "#!pip install textblob\n",
    "#!pip install langdetect\n",
    "import nltk\n",
    "nltk.download('wordnet')"
   ]
  },
  {
   "cell_type": "code",
   "execution_count": 1,
   "metadata": {},
   "outputs": [],
   "source": [
    "#imports\n",
    "import pandas as pd\n",
    "import plotly.express as px\n",
    "import plotly.graph_objects as go\n",
    "import numpy as np\n",
    "import re\n",
    "import random\n",
    "from scipy import sparse\n",
    "from scipy.sparse import csr_matrix, vstack\n",
    "from textblob import TextBlob\n",
    "from langdetect import detect_langs\n",
    "import pickle\n",
    "from datetime import datetime\n",
    "\n",
    "from sklearn.feature_extraction.text import TfidfTransformer, CountVectorizer\n",
    "from sklearn.metrics.pairwise import cosine_similarity\n",
    "from sklearn.linear_model import LogisticRegression\n",
    "from sklearn.metrics import accuracy_score, confusion_matrix\n",
    "from sklearn.pipeline import Pipeline\n",
    "from sklearn.preprocessing import StandardScaler\n",
    "from nltk.stem import WordNetLemmatizer, SnowballStemmer\n",
    "from nltk.stem.porter import *\n",
    "from gensim.models.doc2vec import Doc2Vec, TaggedDocument\n",
    "from gensim.models import Word2Vec\n",
    "import multiprocessing\n",
    "import gensim\n",
    "from gensim.utils import simple_preprocess\n",
    "\n",
    "from sklearn.model_selection import train_test_split\n",
    "import pandas as pd\n",
    "import matplotlib\n",
    "import matplotlib.pyplot as plt\n",
    "import seaborn as sns\n",
    "from collections import Counter\n",
    "from langdetect import detect\n",
    "# from wordcloud import WordCloud, STOPWORDS\n",
    "from sklearn.linear_model import LogisticRegression\n",
    "from sklearn.model_selection import train_test_split\n",
    "from sklearn.naive_bayes import MultinomialNB, ComplementNB\n",
    "from sklearn.feature_extraction.text import CountVectorizer\n",
    "from sklearn.metrics import accuracy_score, classification_report\n",
    "from sklearn.neighbors import KNeighborsClassifier\n",
    "from sklearn.cluster import KMeans\n",
    "from sklearn import svm\n",
    "import plotly.graph_objects as go\n",
    "# from better_profanity import profanity\n",
    "import string\n",
    "\n",
    "import pandas as pd\n",
    "import numpy as np\n",
    "import nltk\n",
    "from nltk.corpus import stopwords\n",
    "from nltk.stem import SnowballStemmer\n",
    "import re\n",
    "from gensim import utils\n",
    "from gensim.models.doc2vec import LabeledSentence\n",
    "from gensim.models import Doc2Vec\n",
    "from sklearn.metrics.pairwise import cosine_similarity\n",
    "from sklearn.feature_extraction.text import TfidfVectorizer\n",
    "from sklearn.metrics import accuracy_score\n",
    "from sklearn.metrics import confusion_matrix\n",
    "from sklearn.metrics import classification_report\n",
    "import matplotlib.pyplot as plt"
   ]
  },
  {
   "cell_type": "code",
   "execution_count": 2,
   "metadata": {},
   "outputs": [],
   "source": [
    "songdata = pd.read_csv('./songdata.csv')"
   ]
  },
  {
   "cell_type": "code",
   "execution_count": 3,
   "metadata": {},
   "outputs": [
    {
     "data": {
      "text/html": [
       "<div>\n",
       "<style scoped>\n",
       "    .dataframe tbody tr th:only-of-type {\n",
       "        vertical-align: middle;\n",
       "    }\n",
       "\n",
       "    .dataframe tbody tr th {\n",
       "        vertical-align: top;\n",
       "    }\n",
       "\n",
       "    .dataframe thead th {\n",
       "        text-align: right;\n",
       "    }\n",
       "</style>\n",
       "<table border=\"1\" class=\"dataframe\">\n",
       "  <thead>\n",
       "    <tr style=\"text-align: right;\">\n",
       "      <th></th>\n",
       "      <th>artist</th>\n",
       "      <th>song</th>\n",
       "      <th>link</th>\n",
       "      <th>text</th>\n",
       "    </tr>\n",
       "  </thead>\n",
       "  <tbody>\n",
       "    <tr>\n",
       "      <th>0</th>\n",
       "      <td>ABBA</td>\n",
       "      <td>Ahe's My Kind Of Girl</td>\n",
       "      <td>/a/abba/ahes+my+kind+of+girl_20598417.html</td>\n",
       "      <td>Look at her face, it's a wonderful face  \\nAnd...</td>\n",
       "    </tr>\n",
       "    <tr>\n",
       "      <th>1</th>\n",
       "      <td>ABBA</td>\n",
       "      <td>Andante, Andante</td>\n",
       "      <td>/a/abba/andante+andante_20002708.html</td>\n",
       "      <td>Take it easy with me, please  \\nTouch me gentl...</td>\n",
       "    </tr>\n",
       "    <tr>\n",
       "      <th>2</th>\n",
       "      <td>ABBA</td>\n",
       "      <td>As Good As New</td>\n",
       "      <td>/a/abba/as+good+as+new_20003033.html</td>\n",
       "      <td>I'll never know why I had to go  \\nWhy I had t...</td>\n",
       "    </tr>\n",
       "    <tr>\n",
       "      <th>3</th>\n",
       "      <td>ABBA</td>\n",
       "      <td>Bang</td>\n",
       "      <td>/a/abba/bang_20598415.html</td>\n",
       "      <td>Making somebody happy is a question of give an...</td>\n",
       "    </tr>\n",
       "    <tr>\n",
       "      <th>4</th>\n",
       "      <td>ABBA</td>\n",
       "      <td>Bang-A-Boomerang</td>\n",
       "      <td>/a/abba/bang+a+boomerang_20002668.html</td>\n",
       "      <td>Making somebody happy is a question of give an...</td>\n",
       "    </tr>\n",
       "  </tbody>\n",
       "</table>\n",
       "</div>"
      ],
      "text/plain": [
       "  artist                   song                                        link  \\\n",
       "0   ABBA  Ahe's My Kind Of Girl  /a/abba/ahes+my+kind+of+girl_20598417.html   \n",
       "1   ABBA       Andante, Andante       /a/abba/andante+andante_20002708.html   \n",
       "2   ABBA         As Good As New        /a/abba/as+good+as+new_20003033.html   \n",
       "3   ABBA                   Bang                  /a/abba/bang_20598415.html   \n",
       "4   ABBA       Bang-A-Boomerang      /a/abba/bang+a+boomerang_20002668.html   \n",
       "\n",
       "                                                text  \n",
       "0  Look at her face, it's a wonderful face  \\nAnd...  \n",
       "1  Take it easy with me, please  \\nTouch me gentl...  \n",
       "2  I'll never know why I had to go  \\nWhy I had t...  \n",
       "3  Making somebody happy is a question of give an...  \n",
       "4  Making somebody happy is a question of give an...  "
      ]
     },
     "execution_count": 3,
     "metadata": {},
     "output_type": "execute_result"
    }
   ],
   "source": [
    "songdata.head()"
   ]
  },
  {
   "cell_type": "code",
   "execution_count": 4,
   "metadata": {
    "scrolled": true
   },
   "outputs": [],
   "source": [
    "df = pd.read_pickle(\"./genres.pkl\")\n",
    "df = pd.merge(songdata, df, on=['artist','artist'])\n",
    "df = df[df.iloc[:,5:].any(axis = 1)]"
   ]
  },
  {
   "cell_type": "code",
   "execution_count": 6,
   "metadata": {},
   "outputs": [
    {
     "data": {
      "text/html": [
       "<div>\n",
       "<style scoped>\n",
       "    .dataframe tbody tr th:only-of-type {\n",
       "        vertical-align: middle;\n",
       "    }\n",
       "\n",
       "    .dataframe tbody tr th {\n",
       "        vertical-align: top;\n",
       "    }\n",
       "\n",
       "    .dataframe thead th {\n",
       "        text-align: right;\n",
       "    }\n",
       "</style>\n",
       "<table border=\"1\" class=\"dataframe\">\n",
       "  <thead>\n",
       "    <tr style=\"text-align: right;\">\n",
       "      <th></th>\n",
       "      <th>artist</th>\n",
       "      <th>song</th>\n",
       "      <th>link</th>\n",
       "      <th>text</th>\n",
       "      <th>genres</th>\n",
       "      <th>rock</th>\n",
       "      <th>singer-songwriter</th>\n",
       "      <th>pop</th>\n",
       "      <th>metal</th>\n",
       "      <th>folk</th>\n",
       "      <th>country</th>\n",
       "      <th>hip hop / rap</th>\n",
       "    </tr>\n",
       "  </thead>\n",
       "  <tbody>\n",
       "    <tr>\n",
       "      <th>0</th>\n",
       "      <td>ABBA</td>\n",
       "      <td>Ahe's My Kind Of Girl</td>\n",
       "      <td>/a/abba/ahes+my+kind+of+girl_20598417.html</td>\n",
       "      <td>Look at her face, it's a wonderful face  \\r\\nA...</td>\n",
       "      <td>[europop, swedish pop]</td>\n",
       "      <td>0</td>\n",
       "      <td>0</td>\n",
       "      <td>1</td>\n",
       "      <td>0</td>\n",
       "      <td>0</td>\n",
       "      <td>0</td>\n",
       "      <td>0</td>\n",
       "    </tr>\n",
       "    <tr>\n",
       "      <th>1</th>\n",
       "      <td>ABBA</td>\n",
       "      <td>Andante, Andante</td>\n",
       "      <td>/a/abba/andante+andante_20002708.html</td>\n",
       "      <td>Take it easy with me, please  \\r\\nTouch me gen...</td>\n",
       "      <td>[europop, swedish pop]</td>\n",
       "      <td>0</td>\n",
       "      <td>0</td>\n",
       "      <td>1</td>\n",
       "      <td>0</td>\n",
       "      <td>0</td>\n",
       "      <td>0</td>\n",
       "      <td>0</td>\n",
       "    </tr>\n",
       "    <tr>\n",
       "      <th>2</th>\n",
       "      <td>ABBA</td>\n",
       "      <td>As Good As New</td>\n",
       "      <td>/a/abba/as+good+as+new_20003033.html</td>\n",
       "      <td>I'll never know why I had to go  \\r\\nWhy I had...</td>\n",
       "      <td>[europop, swedish pop]</td>\n",
       "      <td>0</td>\n",
       "      <td>0</td>\n",
       "      <td>1</td>\n",
       "      <td>0</td>\n",
       "      <td>0</td>\n",
       "      <td>0</td>\n",
       "      <td>0</td>\n",
       "    </tr>\n",
       "    <tr>\n",
       "      <th>3</th>\n",
       "      <td>ABBA</td>\n",
       "      <td>Bang</td>\n",
       "      <td>/a/abba/bang_20598415.html</td>\n",
       "      <td>Making somebody happy is a question of give an...</td>\n",
       "      <td>[europop, swedish pop]</td>\n",
       "      <td>0</td>\n",
       "      <td>0</td>\n",
       "      <td>1</td>\n",
       "      <td>0</td>\n",
       "      <td>0</td>\n",
       "      <td>0</td>\n",
       "      <td>0</td>\n",
       "    </tr>\n",
       "    <tr>\n",
       "      <th>4</th>\n",
       "      <td>ABBA</td>\n",
       "      <td>Bang-A-Boomerang</td>\n",
       "      <td>/a/abba/bang+a+boomerang_20002668.html</td>\n",
       "      <td>Making somebody happy is a question of give an...</td>\n",
       "      <td>[europop, swedish pop]</td>\n",
       "      <td>0</td>\n",
       "      <td>0</td>\n",
       "      <td>1</td>\n",
       "      <td>0</td>\n",
       "      <td>0</td>\n",
       "      <td>0</td>\n",
       "      <td>0</td>\n",
       "    </tr>\n",
       "  </tbody>\n",
       "</table>\n",
       "</div>"
      ],
      "text/plain": [
       "  artist                   song                                        link  \\\n",
       "0   ABBA  Ahe's My Kind Of Girl  /a/abba/ahes+my+kind+of+girl_20598417.html   \n",
       "1   ABBA       Andante, Andante       /a/abba/andante+andante_20002708.html   \n",
       "2   ABBA         As Good As New        /a/abba/as+good+as+new_20003033.html   \n",
       "3   ABBA                   Bang                  /a/abba/bang_20598415.html   \n",
       "4   ABBA       Bang-A-Boomerang      /a/abba/bang+a+boomerang_20002668.html   \n",
       "\n",
       "                                                text                  genres  \\\n",
       "0  Look at her face, it's a wonderful face  \\r\\nA...  [europop, swedish pop]   \n",
       "1  Take it easy with me, please  \\r\\nTouch me gen...  [europop, swedish pop]   \n",
       "2  I'll never know why I had to go  \\r\\nWhy I had...  [europop, swedish pop]   \n",
       "3  Making somebody happy is a question of give an...  [europop, swedish pop]   \n",
       "4  Making somebody happy is a question of give an...  [europop, swedish pop]   \n",
       "\n",
       "   rock  singer-songwriter  pop  metal  folk  country  hip hop / rap  \n",
       "0     0                  0    1      0     0        0              0  \n",
       "1     0                  0    1      0     0        0              0  \n",
       "2     0                  0    1      0     0        0              0  \n",
       "3     0                  0    1      0     0        0              0  \n",
       "4     0                  0    1      0     0        0              0  "
      ]
     },
     "execution_count": 6,
     "metadata": {},
     "output_type": "execute_result"
    }
   ],
   "source": [
    "df.head()"
   ]
  },
  {
   "cell_type": "code",
   "execution_count": 14,
   "metadata": {},
   "outputs": [
    {
     "data": {
      "text/plain": [
       "rock                 0.750957\n",
       "singer-songwriter    0.177727\n",
       "pop                  0.450174\n",
       "metal                0.150945\n",
       "folk                 0.206316\n",
       "country              0.182680\n",
       "hip hop / rap        0.077026\n",
       "dtype: float64"
      ]
     },
     "execution_count": 14,
     "metadata": {},
     "output_type": "execute_result"
    }
   ],
   "source": [
    "df.iloc[:,5:].sum()/df.iloc[:,5:].count()"
   ]
  },
  {
   "cell_type": "code",
   "execution_count": 8,
   "metadata": {},
   "outputs": [
    {
     "ename": "IndentationError",
     "evalue": "unexpected indent (<ipython-input-8-f21ccf5f8755>, line 2)",
     "output_type": "error",
     "traceback": [
      "\u001b[1;36m  File \u001b[1;32m\"<ipython-input-8-f21ccf5f8755>\"\u001b[1;36m, line \u001b[1;32m2\u001b[0m\n\u001b[1;33m    null.iloc[1:,0] = 1-null.iloc[1:,0]\u001b[0m\n\u001b[1;37m    ^\u001b[0m\n\u001b[1;31mIndentationError\u001b[0m\u001b[1;31m:\u001b[0m unexpected indent\n"
     ]
    }
   ],
   "source": [
    "pd.DataFrame(pd.DataFrame(y_test_vec).sum()/len(pd.DataFrame(y_test_vec)))\n",
    "    null.iloc[1:,0] = 1-null.iloc[1:,0]"
   ]
  },
  {
   "cell_type": "code",
   "execution_count": 7,
   "metadata": {},
   "outputs": [
    {
     "name": "stdout",
     "output_type": "stream",
     "text": [
      "<class 'pandas.core.frame.DataFrame'>\n",
      "Int64Index: 51489 entries, 0 to 57595\n",
      "Data columns (total 12 columns):\n",
      " #   Column             Non-Null Count  Dtype \n",
      "---  ------             --------------  ----- \n",
      " 0   artist             51489 non-null  object\n",
      " 1   song               51489 non-null  object\n",
      " 2   link               51489 non-null  object\n",
      " 3   text               51489 non-null  object\n",
      " 4   genres             51489 non-null  object\n",
      " 5   rock               51489 non-null  int32 \n",
      " 6   singer-songwriter  51489 non-null  int32 \n",
      " 7   pop                51489 non-null  int32 \n",
      " 8   metal              51489 non-null  int32 \n",
      " 9   folk               51489 non-null  int32 \n",
      " 10  country            51489 non-null  int32 \n",
      " 11  hip hop / rap      51489 non-null  int32 \n",
      "dtypes: int32(7), object(5)\n",
      "memory usage: 3.7+ MB\n"
     ]
    }
   ],
   "source": [
    "df.info()"
   ]
  },
  {
   "cell_type": "markdown",
   "metadata": {},
   "source": [
    "We have a multilabel classification problem according to https://scikit-learn.org/stable/modules/multiclass.html\n",
    "\n",
    "Multilabel- \n",
    "\n",
    "\"A multiclass multioutput target where each output is binary. This may be represented as a 2d (dense) array or sparse matrix of integers, such that each column is a separate binary target, where positive labels are indicated with 1 and negative labels are usually -1 or 0. Sparse multilabel targets are not supported everywhere that dense multilabel targets are supported.\"\n",
    "\n",
    "\"Valid representation of multilabel y is either dense (or sparse) binary matrix of shape (n_samples, n_classes). Each column represents a class. The 1’s in each row denote the positive classes a sample has been labelled with.\""
   ]
  },
  {
   "cell_type": "markdown",
   "metadata": {},
   "source": [
    "Some text is in round brackets while some is in square brackets. I wanted to examine what that text looked like."
   ]
  },
  {
   "cell_type": "markdown",
   "metadata": {},
   "source": [
    "## Removing Non-English Words"
   ]
  },
  {
   "cell_type": "markdown",
   "metadata": {},
   "source": [
    "### Removing Non-English Songs\n",
    "\n",
    "Note: This takes a while to run. "
   ]
  },
  {
   "cell_type": "code",
   "execution_count": 8,
   "metadata": {},
   "outputs": [
    {
     "name": "stdout",
     "output_type": "stream",
     "text": [
      "Number of songs in english: 51123\n",
      "Number of songs that are not english: 366\n"
     ]
    }
   ],
   "source": [
    "#This find the probability that the word is english\n",
    "def get_eng_prob(text):\n",
    "    detections = detect_langs(text)\n",
    "    for detection in detections:\n",
    "        if detection.lang == 'en':\n",
    "            return detection.prob\n",
    "    return 0\n",
    "\n",
    "#finding the probability that the text is english\n",
    "df['en_prob'] = df['text'].map(get_eng_prob)\n",
    "\n",
    "print('Number of songs in english: {}'.format(sum(df['en_prob'] >= 0.5)))\n",
    "print('Number of songs that are not english: {}'.format(sum(df['en_prob'] < 0.5)))"
   ]
  },
  {
   "cell_type": "code",
   "execution_count": 9,
   "metadata": {},
   "outputs": [],
   "source": [
    "#only selecting songs that have a probability of 0.5 or higher of being in english\n",
    "df= df.loc[df['en_prob'] >= 0.5]"
   ]
  },
  {
   "cell_type": "code",
   "execution_count": 10,
   "metadata": {},
   "outputs": [
    {
     "data": {
      "text/html": [
       "<div>\n",
       "<style scoped>\n",
       "    .dataframe tbody tr th:only-of-type {\n",
       "        vertical-align: middle;\n",
       "    }\n",
       "\n",
       "    .dataframe tbody tr th {\n",
       "        vertical-align: top;\n",
       "    }\n",
       "\n",
       "    .dataframe thead th {\n",
       "        text-align: right;\n",
       "    }\n",
       "</style>\n",
       "<table border=\"1\" class=\"dataframe\">\n",
       "  <thead>\n",
       "    <tr style=\"text-align: right;\">\n",
       "      <th></th>\n",
       "      <th>artist</th>\n",
       "      <th>song</th>\n",
       "      <th>link</th>\n",
       "      <th>text</th>\n",
       "      <th>genres</th>\n",
       "      <th>rock</th>\n",
       "      <th>singer-songwriter</th>\n",
       "      <th>pop</th>\n",
       "      <th>metal</th>\n",
       "      <th>folk</th>\n",
       "      <th>country</th>\n",
       "      <th>hip hop / rap</th>\n",
       "      <th>en_prob</th>\n",
       "    </tr>\n",
       "  </thead>\n",
       "  <tbody>\n",
       "    <tr>\n",
       "      <th>0</th>\n",
       "      <td>ABBA</td>\n",
       "      <td>Ahe's My Kind Of Girl</td>\n",
       "      <td>/a/abba/ahes+my+kind+of+girl_20598417.html</td>\n",
       "      <td>Look at her face, it's a wonderful face  \\r\\nA...</td>\n",
       "      <td>[europop, swedish pop]</td>\n",
       "      <td>0</td>\n",
       "      <td>0</td>\n",
       "      <td>1</td>\n",
       "      <td>0</td>\n",
       "      <td>0</td>\n",
       "      <td>0</td>\n",
       "      <td>0</td>\n",
       "      <td>0.999996</td>\n",
       "    </tr>\n",
       "    <tr>\n",
       "      <th>1</th>\n",
       "      <td>ABBA</td>\n",
       "      <td>Andante, Andante</td>\n",
       "      <td>/a/abba/andante+andante_20002708.html</td>\n",
       "      <td>Take it easy with me, please  \\r\\nTouch me gen...</td>\n",
       "      <td>[europop, swedish pop]</td>\n",
       "      <td>0</td>\n",
       "      <td>0</td>\n",
       "      <td>1</td>\n",
       "      <td>0</td>\n",
       "      <td>0</td>\n",
       "      <td>0</td>\n",
       "      <td>0</td>\n",
       "      <td>0.999997</td>\n",
       "    </tr>\n",
       "    <tr>\n",
       "      <th>2</th>\n",
       "      <td>ABBA</td>\n",
       "      <td>As Good As New</td>\n",
       "      <td>/a/abba/as+good+as+new_20003033.html</td>\n",
       "      <td>I'll never know why I had to go  \\r\\nWhy I had...</td>\n",
       "      <td>[europop, swedish pop]</td>\n",
       "      <td>0</td>\n",
       "      <td>0</td>\n",
       "      <td>1</td>\n",
       "      <td>0</td>\n",
       "      <td>0</td>\n",
       "      <td>0</td>\n",
       "      <td>0</td>\n",
       "      <td>0.999997</td>\n",
       "    </tr>\n",
       "    <tr>\n",
       "      <th>3</th>\n",
       "      <td>ABBA</td>\n",
       "      <td>Bang</td>\n",
       "      <td>/a/abba/bang_20598415.html</td>\n",
       "      <td>Making somebody happy is a question of give an...</td>\n",
       "      <td>[europop, swedish pop]</td>\n",
       "      <td>0</td>\n",
       "      <td>0</td>\n",
       "      <td>1</td>\n",
       "      <td>0</td>\n",
       "      <td>0</td>\n",
       "      <td>0</td>\n",
       "      <td>0</td>\n",
       "      <td>0.999998</td>\n",
       "    </tr>\n",
       "    <tr>\n",
       "      <th>4</th>\n",
       "      <td>ABBA</td>\n",
       "      <td>Bang-A-Boomerang</td>\n",
       "      <td>/a/abba/bang+a+boomerang_20002668.html</td>\n",
       "      <td>Making somebody happy is a question of give an...</td>\n",
       "      <td>[europop, swedish pop]</td>\n",
       "      <td>0</td>\n",
       "      <td>0</td>\n",
       "      <td>1</td>\n",
       "      <td>0</td>\n",
       "      <td>0</td>\n",
       "      <td>0</td>\n",
       "      <td>0</td>\n",
       "      <td>0.999998</td>\n",
       "    </tr>\n",
       "  </tbody>\n",
       "</table>\n",
       "</div>"
      ],
      "text/plain": [
       "  artist                   song                                        link  \\\n",
       "0   ABBA  Ahe's My Kind Of Girl  /a/abba/ahes+my+kind+of+girl_20598417.html   \n",
       "1   ABBA       Andante, Andante       /a/abba/andante+andante_20002708.html   \n",
       "2   ABBA         As Good As New        /a/abba/as+good+as+new_20003033.html   \n",
       "3   ABBA                   Bang                  /a/abba/bang_20598415.html   \n",
       "4   ABBA       Bang-A-Boomerang      /a/abba/bang+a+boomerang_20002668.html   \n",
       "\n",
       "                                                text                  genres  \\\n",
       "0  Look at her face, it's a wonderful face  \\r\\nA...  [europop, swedish pop]   \n",
       "1  Take it easy with me, please  \\r\\nTouch me gen...  [europop, swedish pop]   \n",
       "2  I'll never know why I had to go  \\r\\nWhy I had...  [europop, swedish pop]   \n",
       "3  Making somebody happy is a question of give an...  [europop, swedish pop]   \n",
       "4  Making somebody happy is a question of give an...  [europop, swedish pop]   \n",
       "\n",
       "   rock  singer-songwriter  pop  metal  folk  country  hip hop / rap   en_prob  \n",
       "0     0                  0    1      0     0        0              0  0.999996  \n",
       "1     0                  0    1      0     0        0              0  0.999997  \n",
       "2     0                  0    1      0     0        0              0  0.999997  \n",
       "3     0                  0    1      0     0        0              0  0.999998  \n",
       "4     0                  0    1      0     0        0              0  0.999998  "
      ]
     },
     "execution_count": 10,
     "metadata": {},
     "output_type": "execute_result"
    }
   ],
   "source": [
    "df.head()"
   ]
  },
  {
   "cell_type": "code",
   "execution_count": 11,
   "metadata": {},
   "outputs": [
    {
     "name": "stdout",
     "output_type": "stream",
     "text": [
      "Number of songs in english: 51123\n",
      "Number of songs that are not english: 0\n"
     ]
    }
   ],
   "source": [
    "#Repeating above code to make sure that the non-english songs were dropped\n",
    "print('Number of songs in english: {}'.format(sum(df['en_prob'] >= 0.5)))\n",
    "print('Number of songs that are not english: {}'.format(sum(df['en_prob'] < 0.5)))"
   ]
  },
  {
   "cell_type": "code",
   "execution_count": 12,
   "metadata": {},
   "outputs": [],
   "source": [
    "df = df.drop(['en_prob'], axis=1)"
   ]
  },
  {
   "cell_type": "markdown",
   "metadata": {},
   "source": [
    "## Splitting df into Train/Test\n",
    "We split the initial dataframe into train/test sets before applying any text preprocessing. This is to avoid any unintentional influence of training sets on testing sets, as preprocessing tools performing imputations on the entire data set."
   ]
  },
  {
   "cell_type": "code",
   "execution_count": 13,
   "metadata": {},
   "outputs": [],
   "source": [
    "df_train, df_test = train_test_split(df, \n",
    "                                     test_size = 0.2,\n",
    "                                     random_state = 0)"
   ]
  },
  {
   "cell_type": "code",
   "execution_count": 14,
   "metadata": {},
   "outputs": [
    {
     "data": {
      "text/plain": [
       "(40898, 12)"
      ]
     },
     "execution_count": 14,
     "metadata": {},
     "output_type": "execute_result"
    }
   ],
   "source": [
    "df_train.shape"
   ]
  },
  {
   "cell_type": "code",
   "execution_count": 15,
   "metadata": {},
   "outputs": [
    {
     "data": {
      "text/plain": [
       "(10225, 12)"
      ]
     },
     "execution_count": 15,
     "metadata": {},
     "output_type": "execute_result"
    }
   ],
   "source": [
    "df_test.shape"
   ]
  },
  {
   "cell_type": "markdown",
   "metadata": {},
   "source": [
    "## Text PreProcessing - df Train"
   ]
  },
  {
   "cell_type": "code",
   "execution_count": 16,
   "metadata": {},
   "outputs": [
    {
     "name": "stdout",
     "output_type": "stream",
     "text": [
      "43577\n"
     ]
    }
   ],
   "source": [
    "#examining text in round brackets\n",
    "round_brackets = sum(list(df_train['text'].map(lambda s: re.findall(r'\\((.*?)\\)',s))), [])\n",
    "#Number of round brackets:\n",
    "print((len(round_brackets)))"
   ]
  },
  {
   "cell_type": "code",
   "execution_count": 17,
   "metadata": {},
   "outputs": [
    {
     "data": {
      "text/plain": [
       "['Verse',\n",
       " 'repeat and fade',\n",
       " 'repeat chorus',\n",
       " 'you were right girl',\n",
       " 'oh oh no, oh oh no',\n",
       " 'you will tell me',\n",
       " \"when we ride we ride it's til the day we die\",\n",
       " 'no',\n",
       " 'This is love',\n",
       " 'Clap, clap, clap',\n",
       " 'how are you',\n",
       " 'yeah, yeah, yeah',\n",
       " 'I need all my cash right now',\n",
       " 'Oohhh baby',\n",
       " 'Gonna make you mine']"
      ]
     },
     "execution_count": 17,
     "metadata": {},
     "output_type": "execute_result"
    }
   ],
   "source": [
    "#Viewing some text in round brackets\n",
    "#These just look like normal lyrics\n",
    "random.seed(0)\n",
    "random.choices(round_brackets, k=15)"
   ]
  },
  {
   "cell_type": "code",
   "execution_count": 18,
   "metadata": {},
   "outputs": [
    {
     "name": "stdout",
     "output_type": "stream",
     "text": [
      "20645\n"
     ]
    }
   ],
   "source": [
    "#examining text in square brackets\n",
    "square_brackets = sum(list(df_train['text'].map(lambda s: re.findall(r'\\[(.*?)\\]',s))), [])\n",
    "#how many instances of square brackets?\n",
    "print((len(square_brackets)))"
   ]
  },
  {
   "cell_type": "code",
   "execution_count": 19,
   "metadata": {},
   "outputs": [
    {
     "name": "stderr",
     "output_type": "stream",
     "text": [
      "C:\\Users\\tianj\\Anaconda3\\lib\\site-packages\\ipykernel_launcher.py:3: SettingWithCopyWarning:\n",
      "\n",
      "\n",
      "A value is trying to be set on a copy of a slice from a DataFrame.\n",
      "Try using .loc[row_indexer,col_indexer] = value instead\n",
      "\n",
      "See the caveats in the documentation: https://pandas.pydata.org/pandas-docs/stable/user_guide/indexing.html#returning-a-view-versus-a-copy\n",
      "\n",
      "C:\\Users\\tianj\\Anaconda3\\lib\\site-packages\\ipykernel_launcher.py:6: SettingWithCopyWarning:\n",
      "\n",
      "\n",
      "A value is trying to be set on a copy of a slice from a DataFrame.\n",
      "Try using .loc[row_indexer,col_indexer] = value instead\n",
      "\n",
      "See the caveats in the documentation: https://pandas.pydata.org/pandas-docs/stable/user_guide/indexing.html#returning-a-view-versus-a-copy\n",
      "\n"
     ]
    }
   ],
   "source": [
    "#re.sub(pattern, repl, string, count=0, flags=0)\n",
    "# remove round brackets but not text within\n",
    "df_train['text'] = df_train['text'].map(lambda s: re.sub(r'\\(|\\)', '', s))\n",
    "\n",
    "# remove square brackest and text within\n",
    "df_train['text'] = df_train['text'].map(lambda s: re.sub(r'\\[(.*?)\\] ', '', s))"
   ]
  },
  {
   "cell_type": "code",
   "execution_count": 20,
   "metadata": {},
   "outputs": [
    {
     "name": "stderr",
     "output_type": "stream",
     "text": [
      "C:\\Users\\tianj\\Anaconda3\\lib\\site-packages\\ipykernel_launcher.py:2: SettingWithCopyWarning:\n",
      "\n",
      "\n",
      "A value is trying to be set on a copy of a slice from a DataFrame.\n",
      "Try using .loc[row_indexer,col_indexer] = value instead\n",
      "\n",
      "See the caveats in the documentation: https://pandas.pydata.org/pandas-docs/stable/user_guide/indexing.html#returning-a-view-versus-a-copy\n",
      "\n"
     ]
    }
   ],
   "source": [
    "# remove line breaks\n",
    "df_train['text'] = df_train['text'].map(lambda s: re.sub(r' \\n|\\n', '', s))"
   ]
  },
  {
   "cell_type": "code",
   "execution_count": 21,
   "metadata": {},
   "outputs": [
    {
     "data": {
      "text/plain": [
       "40373    My daddy was the family bassman  \\rMy mamma wa...\n",
       "41147    Thick cloud, steam rising, hissing stone on sw...\n",
       "26951    Somewhere tonight, there's somebody cryin'  \\r...\n",
       "32586    I've found the center of fruit as late  \\rIs t...\n",
       "28650    How many times have they lied with the truth i...\n",
       "                               ...                        \n",
       "24081    She was just a country girl  \\rDidn't have tho...\n",
       "51806    There was a time when men would prosper  \\rThe...\n",
       "47909    Doesn't she look so well  \\rWith her long blac...\n",
       "49069    Tell me a story of mind over matter  \\rThe hop...\n",
       "2961     Hot fun in the summertime  \\ryeah bow bow bow ...\n",
       "Name: text, Length: 40898, dtype: object"
      ]
     },
     "execution_count": 21,
     "metadata": {},
     "output_type": "execute_result"
    }
   ],
   "source": [
    "df_train['text'].map(lambda s: re.sub(r' \\n|\\n', '', s))"
   ]
  },
  {
   "cell_type": "markdown",
   "metadata": {},
   "source": [
    "### Stemming and Preprocessing"
   ]
  },
  {
   "cell_type": "code",
   "execution_count": 22,
   "metadata": {},
   "outputs": [],
   "source": [
    "stemmer = PorterStemmer()\n",
    "def lemmatize_stemming(text):\n",
    " \n",
    "    return stemmer.stem(WordNetLemmatizer().lemmatize(text, pos='v'))\n",
    "\n",
    "def preprocess(text):\n",
    "\n",
    "    result = []\n",
    "    #stopwords = list(gensim.parsing.preprocessing.STOPWORDS)\n",
    "    #stopwords.pop(stopwords.index('no'))\n",
    "    for token in gensim.utils.simple_preprocess(text):\n",
    "        #if token not in set(stopwords):\n",
    "        result.append(lemmatize_stemming(token))\n",
    "    return ' '.join(result)"
   ]
  },
  {
   "cell_type": "code",
   "execution_count": 23,
   "metadata": {},
   "outputs": [
    {
     "name": "stderr",
     "output_type": "stream",
     "text": [
      "C:\\Users\\tianj\\Anaconda3\\lib\\site-packages\\ipykernel_launcher.py:1: SettingWithCopyWarning:\n",
      "\n",
      "\n",
      "A value is trying to be set on a copy of a slice from a DataFrame.\n",
      "Try using .loc[row_indexer,col_indexer] = value instead\n",
      "\n",
      "See the caveats in the documentation: https://pandas.pydata.org/pandas-docs/stable/user_guide/indexing.html#returning-a-view-versus-a-copy\n",
      "\n"
     ]
    }
   ],
   "source": [
    "df_train['text_preprocessed'] = df_train['text'].map(preprocess)"
   ]
  },
  {
   "cell_type": "code",
   "execution_count": 24,
   "metadata": {},
   "outputs": [
    {
     "data": {
      "text/html": [
       "<div>\n",
       "<style scoped>\n",
       "    .dataframe tbody tr th:only-of-type {\n",
       "        vertical-align: middle;\n",
       "    }\n",
       "\n",
       "    .dataframe tbody tr th {\n",
       "        vertical-align: top;\n",
       "    }\n",
       "\n",
       "    .dataframe thead th {\n",
       "        text-align: right;\n",
       "    }\n",
       "</style>\n",
       "<table border=\"1\" class=\"dataframe\">\n",
       "  <thead>\n",
       "    <tr style=\"text-align: right;\">\n",
       "      <th></th>\n",
       "      <th>artist</th>\n",
       "      <th>song</th>\n",
       "      <th>link</th>\n",
       "      <th>text</th>\n",
       "      <th>genres</th>\n",
       "      <th>rock</th>\n",
       "      <th>singer-songwriter</th>\n",
       "      <th>pop</th>\n",
       "      <th>metal</th>\n",
       "      <th>folk</th>\n",
       "      <th>country</th>\n",
       "      <th>hip hop / rap</th>\n",
       "      <th>text_preprocessed</th>\n",
       "    </tr>\n",
       "  </thead>\n",
       "  <tbody>\n",
       "    <tr>\n",
       "      <th>40373</th>\n",
       "      <td>Paul Simon</td>\n",
       "      <td>Baby Driver</td>\n",
       "      <td>/p/paul+simon/baby+driver_20151462.html</td>\n",
       "      <td>My daddy was the family bassman  \\rMy mamma wa...</td>\n",
       "      <td>[classic rock, folk, folk rock, mellow gold, p...</td>\n",
       "      <td>1</td>\n",
       "      <td>1</td>\n",
       "      <td>0</td>\n",
       "      <td>0</td>\n",
       "      <td>1</td>\n",
       "      <td>0</td>\n",
       "      <td>0</td>\n",
       "      <td>my daddi be the famili bassman my mamma be an ...</td>\n",
       "    </tr>\n",
       "    <tr>\n",
       "      <th>41147</th>\n",
       "      <td>Peter Gabriel</td>\n",
       "      <td>San Jacinto</td>\n",
       "      <td>/p/peter+gabriel/san+jacinto_10204715.html</td>\n",
       "      <td>Thick cloud, steam rising, hissing stone on sw...</td>\n",
       "      <td>[album rock, art pop, art rock, classic rock, ...</td>\n",
       "      <td>1</td>\n",
       "      <td>0</td>\n",
       "      <td>1</td>\n",
       "      <td>0</td>\n",
       "      <td>0</td>\n",
       "      <td>0</td>\n",
       "      <td>0</td>\n",
       "      <td>thick cloud steam rise hiss stone on sweat lod...</td>\n",
       "    </tr>\n",
       "    <tr>\n",
       "      <th>26951</th>\n",
       "      <td>Keith Urban</td>\n",
       "      <td>Sometimes Angels Can't Fly</td>\n",
       "      <td>/k/keith+urban/sometimes+angels+cant+fly_20571...</td>\n",
       "      <td>Somewhere tonight, there's somebody cryin'  \\r...</td>\n",
       "      <td>[australian country, australian pop, contempor...</td>\n",
       "      <td>0</td>\n",
       "      <td>0</td>\n",
       "      <td>1</td>\n",
       "      <td>0</td>\n",
       "      <td>0</td>\n",
       "      <td>1</td>\n",
       "      <td>0</td>\n",
       "      <td>somewher tonight there somebodi cryin and feel...</td>\n",
       "    </tr>\n",
       "    <tr>\n",
       "      <th>32586</th>\n",
       "      <td>Marilyn Manson</td>\n",
       "      <td>Apple Of Sodom</td>\n",
       "      <td>/m/marilyn+manson/apple+of+sodom_20089096.html</td>\n",
       "      <td>I've found the center of fruit as late  \\rIs t...</td>\n",
       "      <td>[alternative metal, industrial, industrial met...</td>\n",
       "      <td>1</td>\n",
       "      <td>0</td>\n",
       "      <td>0</td>\n",
       "      <td>1</td>\n",
       "      <td>0</td>\n",
       "      <td>0</td>\n",
       "      <td>0</td>\n",
       "      <td>ve find the center of fruit as late be the cen...</td>\n",
       "    </tr>\n",
       "    <tr>\n",
       "      <th>28650</th>\n",
       "      <td>Kiss</td>\n",
       "      <td>I've Had Enough</td>\n",
       "      <td>/k/kiss/ive+had+enough_10159193.html</td>\n",
       "      <td>How many times have they lied with the truth i...</td>\n",
       "      <td>[album rock, classic rock, glam rock, hard roc...</td>\n",
       "      <td>1</td>\n",
       "      <td>0</td>\n",
       "      <td>0</td>\n",
       "      <td>1</td>\n",
       "      <td>0</td>\n",
       "      <td>0</td>\n",
       "      <td>0</td>\n",
       "      <td>how mani time have they lie with the truth in ...</td>\n",
       "    </tr>\n",
       "  </tbody>\n",
       "</table>\n",
       "</div>"
      ],
      "text/plain": [
       "               artist                        song  \\\n",
       "40373      Paul Simon                 Baby Driver   \n",
       "41147   Peter Gabriel                 San Jacinto   \n",
       "26951     Keith Urban  Sometimes Angels Can't Fly   \n",
       "32586  Marilyn Manson              Apple Of Sodom   \n",
       "28650            Kiss             I've Had Enough   \n",
       "\n",
       "                                                    link  \\\n",
       "40373            /p/paul+simon/baby+driver_20151462.html   \n",
       "41147         /p/peter+gabriel/san+jacinto_10204715.html   \n",
       "26951  /k/keith+urban/sometimes+angels+cant+fly_20571...   \n",
       "32586     /m/marilyn+manson/apple+of+sodom_20089096.html   \n",
       "28650               /k/kiss/ive+had+enough_10159193.html   \n",
       "\n",
       "                                                    text  \\\n",
       "40373  My daddy was the family bassman  \\rMy mamma wa...   \n",
       "41147  Thick cloud, steam rising, hissing stone on sw...   \n",
       "26951  Somewhere tonight, there's somebody cryin'  \\r...   \n",
       "32586  I've found the center of fruit as late  \\rIs t...   \n",
       "28650  How many times have they lied with the truth i...   \n",
       "\n",
       "                                                  genres  rock  \\\n",
       "40373  [classic rock, folk, folk rock, mellow gold, p...     1   \n",
       "41147  [album rock, art pop, art rock, classic rock, ...     1   \n",
       "26951  [australian country, australian pop, contempor...     0   \n",
       "32586  [alternative metal, industrial, industrial met...     1   \n",
       "28650  [album rock, classic rock, glam rock, hard roc...     1   \n",
       "\n",
       "       singer-songwriter  pop  metal  folk  country  hip hop / rap  \\\n",
       "40373                  1    0      0     1        0              0   \n",
       "41147                  0    1      0     0        0              0   \n",
       "26951                  0    1      0     0        1              0   \n",
       "32586                  0    0      1     0        0              0   \n",
       "28650                  0    0      1     0        0              0   \n",
       "\n",
       "                                       text_preprocessed  \n",
       "40373  my daddi be the famili bassman my mamma be an ...  \n",
       "41147  thick cloud steam rise hiss stone on sweat lod...  \n",
       "26951  somewher tonight there somebodi cryin and feel...  \n",
       "32586  ve find the center of fruit as late be the cen...  \n",
       "28650  how mani time have they lie with the truth in ...  "
      ]
     },
     "execution_count": 24,
     "metadata": {},
     "output_type": "execute_result"
    }
   ],
   "source": [
    "df_train.head()"
   ]
  },
  {
   "cell_type": "code",
   "execution_count": 25,
   "metadata": {},
   "outputs": [
    {
     "data": {
      "text/plain": [
       "40373    my daddi be the famili bassman my mamma be an ...\n",
       "41147    thick cloud steam rise hiss stone on sweat lod...\n",
       "26951    somewher tonight there somebodi cryin and feel...\n",
       "32586    ve find the center of fruit as late be the cen...\n",
       "28650    how mani time have they lie with the truth in ...\n",
       "Name: text_preprocessed, dtype: object"
      ]
     },
     "execution_count": 25,
     "metadata": {},
     "output_type": "execute_result"
    }
   ],
   "source": [
    "#Checking what the tokens column look like before removing stopwords\n",
    "df_train['text_preprocessed'].head()"
   ]
  },
  {
   "cell_type": "code",
   "execution_count": 26,
   "metadata": {},
   "outputs": [],
   "source": [
    "#safety\n",
    "df_train2 = df_train"
   ]
  },
  {
   "cell_type": "markdown",
   "metadata": {},
   "source": [
    "## Tokenization"
   ]
  },
  {
   "cell_type": "code",
   "execution_count": 27,
   "metadata": {},
   "outputs": [
    {
     "name": "stderr",
     "output_type": "stream",
     "text": [
      "C:\\Users\\tianj\\Anaconda3\\lib\\site-packages\\ipykernel_launcher.py:5: SettingWithCopyWarning:\n",
      "\n",
      "\n",
      "A value is trying to be set on a copy of a slice from a DataFrame.\n",
      "Try using .loc[row_indexer,col_indexer] = value instead\n",
      "\n",
      "See the caveats in the documentation: https://pandas.pydata.org/pandas-docs/stable/user_guide/indexing.html#returning-a-view-versus-a-copy\n",
      "\n"
     ]
    }
   ],
   "source": [
    "#w+ for whitespace\n",
    "tokenizer = nltk.tokenize.RegexpTokenizer(r'\\w+')\n",
    "\n",
    "#creating a new column called tokens\n",
    "df_train['tokens'] = df_train['text_preprocessed'].map(tokenizer.tokenize)"
   ]
  },
  {
   "cell_type": "code",
   "execution_count": 28,
   "metadata": {},
   "outputs": [
    {
     "data": {
      "text/html": [
       "<div>\n",
       "<style scoped>\n",
       "    .dataframe tbody tr th:only-of-type {\n",
       "        vertical-align: middle;\n",
       "    }\n",
       "\n",
       "    .dataframe tbody tr th {\n",
       "        vertical-align: top;\n",
       "    }\n",
       "\n",
       "    .dataframe thead th {\n",
       "        text-align: right;\n",
       "    }\n",
       "</style>\n",
       "<table border=\"1\" class=\"dataframe\">\n",
       "  <thead>\n",
       "    <tr style=\"text-align: right;\">\n",
       "      <th></th>\n",
       "      <th>artist</th>\n",
       "      <th>song</th>\n",
       "      <th>link</th>\n",
       "      <th>text</th>\n",
       "      <th>genres</th>\n",
       "      <th>rock</th>\n",
       "      <th>singer-songwriter</th>\n",
       "      <th>pop</th>\n",
       "      <th>metal</th>\n",
       "      <th>folk</th>\n",
       "      <th>country</th>\n",
       "      <th>hip hop / rap</th>\n",
       "      <th>text_preprocessed</th>\n",
       "      <th>tokens</th>\n",
       "    </tr>\n",
       "  </thead>\n",
       "  <tbody>\n",
       "    <tr>\n",
       "      <th>40373</th>\n",
       "      <td>Paul Simon</td>\n",
       "      <td>Baby Driver</td>\n",
       "      <td>/p/paul+simon/baby+driver_20151462.html</td>\n",
       "      <td>My daddy was the family bassman  \\rMy mamma wa...</td>\n",
       "      <td>[classic rock, folk, folk rock, mellow gold, p...</td>\n",
       "      <td>1</td>\n",
       "      <td>1</td>\n",
       "      <td>0</td>\n",
       "      <td>0</td>\n",
       "      <td>1</td>\n",
       "      <td>0</td>\n",
       "      <td>0</td>\n",
       "      <td>my daddi be the famili bassman my mamma be an ...</td>\n",
       "      <td>[my, daddi, be, the, famili, bassman, my, mamm...</td>\n",
       "    </tr>\n",
       "    <tr>\n",
       "      <th>41147</th>\n",
       "      <td>Peter Gabriel</td>\n",
       "      <td>San Jacinto</td>\n",
       "      <td>/p/peter+gabriel/san+jacinto_10204715.html</td>\n",
       "      <td>Thick cloud, steam rising, hissing stone on sw...</td>\n",
       "      <td>[album rock, art pop, art rock, classic rock, ...</td>\n",
       "      <td>1</td>\n",
       "      <td>0</td>\n",
       "      <td>1</td>\n",
       "      <td>0</td>\n",
       "      <td>0</td>\n",
       "      <td>0</td>\n",
       "      <td>0</td>\n",
       "      <td>thick cloud steam rise hiss stone on sweat lod...</td>\n",
       "      <td>[thick, cloud, steam, rise, hiss, stone, on, s...</td>\n",
       "    </tr>\n",
       "    <tr>\n",
       "      <th>26951</th>\n",
       "      <td>Keith Urban</td>\n",
       "      <td>Sometimes Angels Can't Fly</td>\n",
       "      <td>/k/keith+urban/sometimes+angels+cant+fly_20571...</td>\n",
       "      <td>Somewhere tonight, there's somebody cryin'  \\r...</td>\n",
       "      <td>[australian country, australian pop, contempor...</td>\n",
       "      <td>0</td>\n",
       "      <td>0</td>\n",
       "      <td>1</td>\n",
       "      <td>0</td>\n",
       "      <td>0</td>\n",
       "      <td>1</td>\n",
       "      <td>0</td>\n",
       "      <td>somewher tonight there somebodi cryin and feel...</td>\n",
       "      <td>[somewher, tonight, there, somebodi, cryin, an...</td>\n",
       "    </tr>\n",
       "    <tr>\n",
       "      <th>32586</th>\n",
       "      <td>Marilyn Manson</td>\n",
       "      <td>Apple Of Sodom</td>\n",
       "      <td>/m/marilyn+manson/apple+of+sodom_20089096.html</td>\n",
       "      <td>I've found the center of fruit as late  \\rIs t...</td>\n",
       "      <td>[alternative metal, industrial, industrial met...</td>\n",
       "      <td>1</td>\n",
       "      <td>0</td>\n",
       "      <td>0</td>\n",
       "      <td>1</td>\n",
       "      <td>0</td>\n",
       "      <td>0</td>\n",
       "      <td>0</td>\n",
       "      <td>ve find the center of fruit as late be the cen...</td>\n",
       "      <td>[ve, find, the, center, of, fruit, as, late, b...</td>\n",
       "    </tr>\n",
       "    <tr>\n",
       "      <th>28650</th>\n",
       "      <td>Kiss</td>\n",
       "      <td>I've Had Enough</td>\n",
       "      <td>/k/kiss/ive+had+enough_10159193.html</td>\n",
       "      <td>How many times have they lied with the truth i...</td>\n",
       "      <td>[album rock, classic rock, glam rock, hard roc...</td>\n",
       "      <td>1</td>\n",
       "      <td>0</td>\n",
       "      <td>0</td>\n",
       "      <td>1</td>\n",
       "      <td>0</td>\n",
       "      <td>0</td>\n",
       "      <td>0</td>\n",
       "      <td>how mani time have they lie with the truth in ...</td>\n",
       "      <td>[how, mani, time, have, they, lie, with, the, ...</td>\n",
       "    </tr>\n",
       "  </tbody>\n",
       "</table>\n",
       "</div>"
      ],
      "text/plain": [
       "               artist                        song  \\\n",
       "40373      Paul Simon                 Baby Driver   \n",
       "41147   Peter Gabriel                 San Jacinto   \n",
       "26951     Keith Urban  Sometimes Angels Can't Fly   \n",
       "32586  Marilyn Manson              Apple Of Sodom   \n",
       "28650            Kiss             I've Had Enough   \n",
       "\n",
       "                                                    link  \\\n",
       "40373            /p/paul+simon/baby+driver_20151462.html   \n",
       "41147         /p/peter+gabriel/san+jacinto_10204715.html   \n",
       "26951  /k/keith+urban/sometimes+angels+cant+fly_20571...   \n",
       "32586     /m/marilyn+manson/apple+of+sodom_20089096.html   \n",
       "28650               /k/kiss/ive+had+enough_10159193.html   \n",
       "\n",
       "                                                    text  \\\n",
       "40373  My daddy was the family bassman  \\rMy mamma wa...   \n",
       "41147  Thick cloud, steam rising, hissing stone on sw...   \n",
       "26951  Somewhere tonight, there's somebody cryin'  \\r...   \n",
       "32586  I've found the center of fruit as late  \\rIs t...   \n",
       "28650  How many times have they lied with the truth i...   \n",
       "\n",
       "                                                  genres  rock  \\\n",
       "40373  [classic rock, folk, folk rock, mellow gold, p...     1   \n",
       "41147  [album rock, art pop, art rock, classic rock, ...     1   \n",
       "26951  [australian country, australian pop, contempor...     0   \n",
       "32586  [alternative metal, industrial, industrial met...     1   \n",
       "28650  [album rock, classic rock, glam rock, hard roc...     1   \n",
       "\n",
       "       singer-songwriter  pop  metal  folk  country  hip hop / rap  \\\n",
       "40373                  1    0      0     1        0              0   \n",
       "41147                  0    1      0     0        0              0   \n",
       "26951                  0    1      0     0        1              0   \n",
       "32586                  0    0      1     0        0              0   \n",
       "28650                  0    0      1     0        0              0   \n",
       "\n",
       "                                       text_preprocessed  \\\n",
       "40373  my daddi be the famili bassman my mamma be an ...   \n",
       "41147  thick cloud steam rise hiss stone on sweat lod...   \n",
       "26951  somewher tonight there somebodi cryin and feel...   \n",
       "32586  ve find the center of fruit as late be the cen...   \n",
       "28650  how mani time have they lie with the truth in ...   \n",
       "\n",
       "                                                  tokens  \n",
       "40373  [my, daddi, be, the, famili, bassman, my, mamm...  \n",
       "41147  [thick, cloud, steam, rise, hiss, stone, on, s...  \n",
       "26951  [somewher, tonight, there, somebodi, cryin, an...  \n",
       "32586  [ve, find, the, center, of, fruit, as, late, b...  \n",
       "28650  [how, mani, time, have, they, lie, with, the, ...  "
      ]
     },
     "execution_count": 28,
     "metadata": {},
     "output_type": "execute_result"
    }
   ],
   "source": [
    "df_train.head()"
   ]
  },
  {
   "cell_type": "markdown",
   "metadata": {},
   "source": [
    "### Removing stop words\n",
    "Reference for more info: https://www.geeksforgeeks.org/removing-stop-words-nltk-python/"
   ]
  },
  {
   "cell_type": "code",
   "execution_count": 29,
   "metadata": {},
   "outputs": [
    {
     "name": "stderr",
     "output_type": "stream",
     "text": [
      "[nltk_data] Downloading package stopwords to\n",
      "[nltk_data]     C:\\Users\\tianj\\AppData\\Roaming\\nltk_data...\n",
      "[nltk_data]   Package stopwords is already up-to-date!\n"
     ]
    }
   ],
   "source": [
    "#setting stop words\n",
    "nltk.download('stopwords')\n",
    "from nltk.corpus import stopwords\n",
    "stop_words = set(stopwords.words('english')) "
   ]
  },
  {
   "cell_type": "code",
   "execution_count": 30,
   "metadata": {},
   "outputs": [
    {
     "name": "stderr",
     "output_type": "stream",
     "text": [
      "C:\\Users\\tianj\\Anaconda3\\lib\\site-packages\\ipykernel_launcher.py:2: SettingWithCopyWarning:\n",
      "\n",
      "\n",
      "A value is trying to be set on a copy of a slice from a DataFrame.\n",
      "Try using .loc[row_indexer,col_indexer] = value instead\n",
      "\n",
      "See the caveats in the documentation: https://pandas.pydata.org/pandas-docs/stable/user_guide/indexing.html#returning-a-view-versus-a-copy\n",
      "\n"
     ]
    }
   ],
   "source": [
    "#removing stop words\n",
    "df_train['tokens'] = df_train['tokens'].apply(lambda x: [item for item in x if item not in stop_words])"
   ]
  },
  {
   "cell_type": "code",
   "execution_count": 31,
   "metadata": {},
   "outputs": [
    {
     "data": {
      "text/html": [
       "<div>\n",
       "<style scoped>\n",
       "    .dataframe tbody tr th:only-of-type {\n",
       "        vertical-align: middle;\n",
       "    }\n",
       "\n",
       "    .dataframe tbody tr th {\n",
       "        vertical-align: top;\n",
       "    }\n",
       "\n",
       "    .dataframe thead th {\n",
       "        text-align: right;\n",
       "    }\n",
       "</style>\n",
       "<table border=\"1\" class=\"dataframe\">\n",
       "  <thead>\n",
       "    <tr style=\"text-align: right;\">\n",
       "      <th></th>\n",
       "      <th>artist</th>\n",
       "      <th>song</th>\n",
       "      <th>link</th>\n",
       "      <th>text</th>\n",
       "      <th>genres</th>\n",
       "      <th>rock</th>\n",
       "      <th>singer-songwriter</th>\n",
       "      <th>pop</th>\n",
       "      <th>metal</th>\n",
       "      <th>folk</th>\n",
       "      <th>country</th>\n",
       "      <th>hip hop / rap</th>\n",
       "      <th>text_preprocessed</th>\n",
       "      <th>tokens</th>\n",
       "    </tr>\n",
       "  </thead>\n",
       "  <tbody>\n",
       "    <tr>\n",
       "      <th>40373</th>\n",
       "      <td>Paul Simon</td>\n",
       "      <td>Baby Driver</td>\n",
       "      <td>/p/paul+simon/baby+driver_20151462.html</td>\n",
       "      <td>My daddy was the family bassman  \\rMy mamma wa...</td>\n",
       "      <td>[classic rock, folk, folk rock, mellow gold, p...</td>\n",
       "      <td>1</td>\n",
       "      <td>1</td>\n",
       "      <td>0</td>\n",
       "      <td>0</td>\n",
       "      <td>1</td>\n",
       "      <td>0</td>\n",
       "      <td>0</td>\n",
       "      <td>my daddi be the famili bassman my mamma be an ...</td>\n",
       "      <td>[daddi, famili, bassman, mamma, engin, bear, o...</td>\n",
       "    </tr>\n",
       "    <tr>\n",
       "      <th>41147</th>\n",
       "      <td>Peter Gabriel</td>\n",
       "      <td>San Jacinto</td>\n",
       "      <td>/p/peter+gabriel/san+jacinto_10204715.html</td>\n",
       "      <td>Thick cloud, steam rising, hissing stone on sw...</td>\n",
       "      <td>[album rock, art pop, art rock, classic rock, ...</td>\n",
       "      <td>1</td>\n",
       "      <td>0</td>\n",
       "      <td>1</td>\n",
       "      <td>0</td>\n",
       "      <td>0</td>\n",
       "      <td>0</td>\n",
       "      <td>0</td>\n",
       "      <td>thick cloud steam rise hiss stone on sweat lod...</td>\n",
       "      <td>[thick, cloud, steam, rise, hiss, stone, sweat...</td>\n",
       "    </tr>\n",
       "    <tr>\n",
       "      <th>26951</th>\n",
       "      <td>Keith Urban</td>\n",
       "      <td>Sometimes Angels Can't Fly</td>\n",
       "      <td>/k/keith+urban/sometimes+angels+cant+fly_20571...</td>\n",
       "      <td>Somewhere tonight, there's somebody cryin'  \\r...</td>\n",
       "      <td>[australian country, australian pop, contempor...</td>\n",
       "      <td>0</td>\n",
       "      <td>0</td>\n",
       "      <td>1</td>\n",
       "      <td>0</td>\n",
       "      <td>0</td>\n",
       "      <td>1</td>\n",
       "      <td>0</td>\n",
       "      <td>somewher tonight there somebodi cryin and feel...</td>\n",
       "      <td>[somewher, tonight, somebodi, cryin, feelin, c...</td>\n",
       "    </tr>\n",
       "    <tr>\n",
       "      <th>32586</th>\n",
       "      <td>Marilyn Manson</td>\n",
       "      <td>Apple Of Sodom</td>\n",
       "      <td>/m/marilyn+manson/apple+of+sodom_20089096.html</td>\n",
       "      <td>I've found the center of fruit as late  \\rIs t...</td>\n",
       "      <td>[alternative metal, industrial, industrial met...</td>\n",
       "      <td>1</td>\n",
       "      <td>0</td>\n",
       "      <td>0</td>\n",
       "      <td>1</td>\n",
       "      <td>0</td>\n",
       "      <td>0</td>\n",
       "      <td>0</td>\n",
       "      <td>ve find the center of fruit as late be the cen...</td>\n",
       "      <td>[find, center, fruit, late, center, truth, tod...</td>\n",
       "    </tr>\n",
       "    <tr>\n",
       "      <th>28650</th>\n",
       "      <td>Kiss</td>\n",
       "      <td>I've Had Enough</td>\n",
       "      <td>/k/kiss/ive+had+enough_10159193.html</td>\n",
       "      <td>How many times have they lied with the truth i...</td>\n",
       "      <td>[album rock, classic rock, glam rock, hard roc...</td>\n",
       "      <td>1</td>\n",
       "      <td>0</td>\n",
       "      <td>0</td>\n",
       "      <td>1</td>\n",
       "      <td>0</td>\n",
       "      <td>0</td>\n",
       "      <td>0</td>\n",
       "      <td>how mani time have they lie with the truth in ...</td>\n",
       "      <td>[mani, time, lie, truth, eye, treat, like, dir...</td>\n",
       "    </tr>\n",
       "  </tbody>\n",
       "</table>\n",
       "</div>"
      ],
      "text/plain": [
       "               artist                        song  \\\n",
       "40373      Paul Simon                 Baby Driver   \n",
       "41147   Peter Gabriel                 San Jacinto   \n",
       "26951     Keith Urban  Sometimes Angels Can't Fly   \n",
       "32586  Marilyn Manson              Apple Of Sodom   \n",
       "28650            Kiss             I've Had Enough   \n",
       "\n",
       "                                                    link  \\\n",
       "40373            /p/paul+simon/baby+driver_20151462.html   \n",
       "41147         /p/peter+gabriel/san+jacinto_10204715.html   \n",
       "26951  /k/keith+urban/sometimes+angels+cant+fly_20571...   \n",
       "32586     /m/marilyn+manson/apple+of+sodom_20089096.html   \n",
       "28650               /k/kiss/ive+had+enough_10159193.html   \n",
       "\n",
       "                                                    text  \\\n",
       "40373  My daddy was the family bassman  \\rMy mamma wa...   \n",
       "41147  Thick cloud, steam rising, hissing stone on sw...   \n",
       "26951  Somewhere tonight, there's somebody cryin'  \\r...   \n",
       "32586  I've found the center of fruit as late  \\rIs t...   \n",
       "28650  How many times have they lied with the truth i...   \n",
       "\n",
       "                                                  genres  rock  \\\n",
       "40373  [classic rock, folk, folk rock, mellow gold, p...     1   \n",
       "41147  [album rock, art pop, art rock, classic rock, ...     1   \n",
       "26951  [australian country, australian pop, contempor...     0   \n",
       "32586  [alternative metal, industrial, industrial met...     1   \n",
       "28650  [album rock, classic rock, glam rock, hard roc...     1   \n",
       "\n",
       "       singer-songwriter  pop  metal  folk  country  hip hop / rap  \\\n",
       "40373                  1    0      0     1        0              0   \n",
       "41147                  0    1      0     0        0              0   \n",
       "26951                  0    1      0     0        1              0   \n",
       "32586                  0    0      1     0        0              0   \n",
       "28650                  0    0      1     0        0              0   \n",
       "\n",
       "                                       text_preprocessed  \\\n",
       "40373  my daddi be the famili bassman my mamma be an ...   \n",
       "41147  thick cloud steam rise hiss stone on sweat lod...   \n",
       "26951  somewher tonight there somebodi cryin and feel...   \n",
       "32586  ve find the center of fruit as late be the cen...   \n",
       "28650  how mani time have they lie with the truth in ...   \n",
       "\n",
       "                                                  tokens  \n",
       "40373  [daddi, famili, bassman, mamma, engin, bear, o...  \n",
       "41147  [thick, cloud, steam, rise, hiss, stone, sweat...  \n",
       "26951  [somewher, tonight, somebodi, cryin, feelin, c...  \n",
       "32586  [find, center, fruit, late, center, truth, tod...  \n",
       "28650  [mani, time, lie, truth, eye, treat, like, dir...  "
      ]
     },
     "execution_count": 31,
     "metadata": {},
     "output_type": "execute_result"
    }
   ],
   "source": [
    "df_train.head()"
   ]
  },
  {
   "cell_type": "code",
   "execution_count": 32,
   "metadata": {},
   "outputs": [
    {
     "name": "stdout",
     "output_type": "stream",
     "text": [
      "<class 'pandas.core.frame.DataFrame'>\n",
      "Int64Index: 40898 entries, 40373 to 2961\n",
      "Data columns (total 14 columns):\n",
      " #   Column             Non-Null Count  Dtype \n",
      "---  ------             --------------  ----- \n",
      " 0   artist             40898 non-null  object\n",
      " 1   song               40898 non-null  object\n",
      " 2   link               40898 non-null  object\n",
      " 3   text               40898 non-null  object\n",
      " 4   genres             40898 non-null  object\n",
      " 5   rock               40898 non-null  int32 \n",
      " 6   singer-songwriter  40898 non-null  int32 \n",
      " 7   pop                40898 non-null  int32 \n",
      " 8   metal              40898 non-null  int32 \n",
      " 9   folk               40898 non-null  int32 \n",
      " 10  country            40898 non-null  int32 \n",
      " 11  hip hop / rap      40898 non-null  int32 \n",
      " 12  text_preprocessed  40898 non-null  object\n",
      " 13  tokens             40898 non-null  object\n",
      "dtypes: int32(7), object(7)\n",
      "memory usage: 3.6+ MB\n"
     ]
    }
   ],
   "source": [
    "#checking out the data\n",
    "df_train.info()"
   ]
  },
  {
   "cell_type": "code",
   "execution_count": 33,
   "metadata": {},
   "outputs": [
    {
     "name": "stderr",
     "output_type": "stream",
     "text": [
      "C:\\Users\\tianj\\Anaconda3\\lib\\site-packages\\ipykernel_launcher.py:2: SettingWithCopyWarning:\n",
      "\n",
      "\n",
      "A value is trying to be set on a copy of a slice from a DataFrame.\n",
      "Try using .loc[row_indexer,col_indexer] = value instead\n",
      "\n",
      "See the caveats in the documentation: https://pandas.pydata.org/pandas-docs/stable/user_guide/indexing.html#returning-a-view-versus-a-copy\n",
      "\n"
     ]
    }
   ],
   "source": [
    "#turning the stems back into untokenized structrure so that we can run count vector on it\n",
    "df_train['stem_str'] = df_train['tokens'].map(lambda lst: ' '.join(lst))"
   ]
  },
  {
   "cell_type": "code",
   "execution_count": 34,
   "metadata": {},
   "outputs": [
    {
     "data": {
      "text/html": [
       "<div>\n",
       "<style scoped>\n",
       "    .dataframe tbody tr th:only-of-type {\n",
       "        vertical-align: middle;\n",
       "    }\n",
       "\n",
       "    .dataframe tbody tr th {\n",
       "        vertical-align: top;\n",
       "    }\n",
       "\n",
       "    .dataframe thead th {\n",
       "        text-align: right;\n",
       "    }\n",
       "</style>\n",
       "<table border=\"1\" class=\"dataframe\">\n",
       "  <thead>\n",
       "    <tr style=\"text-align: right;\">\n",
       "      <th></th>\n",
       "      <th>artist</th>\n",
       "      <th>song</th>\n",
       "      <th>link</th>\n",
       "      <th>text</th>\n",
       "      <th>genres</th>\n",
       "      <th>rock</th>\n",
       "      <th>singer-songwriter</th>\n",
       "      <th>pop</th>\n",
       "      <th>metal</th>\n",
       "      <th>folk</th>\n",
       "      <th>country</th>\n",
       "      <th>hip hop / rap</th>\n",
       "      <th>text_preprocessed</th>\n",
       "      <th>tokens</th>\n",
       "      <th>stem_str</th>\n",
       "    </tr>\n",
       "  </thead>\n",
       "  <tbody>\n",
       "    <tr>\n",
       "      <th>40373</th>\n",
       "      <td>Paul Simon</td>\n",
       "      <td>Baby Driver</td>\n",
       "      <td>/p/paul+simon/baby+driver_20151462.html</td>\n",
       "      <td>My daddy was the family bassman  \\rMy mamma wa...</td>\n",
       "      <td>[classic rock, folk, folk rock, mellow gold, p...</td>\n",
       "      <td>1</td>\n",
       "      <td>1</td>\n",
       "      <td>0</td>\n",
       "      <td>0</td>\n",
       "      <td>1</td>\n",
       "      <td>0</td>\n",
       "      <td>0</td>\n",
       "      <td>my daddi be the famili bassman my mamma be an ...</td>\n",
       "      <td>[daddi, famili, bassman, mamma, engin, bear, o...</td>\n",
       "      <td>daddi famili bassman mamma engin bear one dark...</td>\n",
       "    </tr>\n",
       "    <tr>\n",
       "      <th>41147</th>\n",
       "      <td>Peter Gabriel</td>\n",
       "      <td>San Jacinto</td>\n",
       "      <td>/p/peter+gabriel/san+jacinto_10204715.html</td>\n",
       "      <td>Thick cloud, steam rising, hissing stone on sw...</td>\n",
       "      <td>[album rock, art pop, art rock, classic rock, ...</td>\n",
       "      <td>1</td>\n",
       "      <td>0</td>\n",
       "      <td>1</td>\n",
       "      <td>0</td>\n",
       "      <td>0</td>\n",
       "      <td>0</td>\n",
       "      <td>0</td>\n",
       "      <td>thick cloud steam rise hiss stone on sweat lod...</td>\n",
       "      <td>[thick, cloud, steam, rise, hiss, stone, sweat...</td>\n",
       "      <td>thick cloud steam rise hiss stone sweat lodg f...</td>\n",
       "    </tr>\n",
       "    <tr>\n",
       "      <th>26951</th>\n",
       "      <td>Keith Urban</td>\n",
       "      <td>Sometimes Angels Can't Fly</td>\n",
       "      <td>/k/keith+urban/sometimes+angels+cant+fly_20571...</td>\n",
       "      <td>Somewhere tonight, there's somebody cryin'  \\r...</td>\n",
       "      <td>[australian country, australian pop, contempor...</td>\n",
       "      <td>0</td>\n",
       "      <td>0</td>\n",
       "      <td>1</td>\n",
       "      <td>0</td>\n",
       "      <td>0</td>\n",
       "      <td>1</td>\n",
       "      <td>0</td>\n",
       "      <td>somewher tonight there somebodi cryin and feel...</td>\n",
       "      <td>[somewher, tonight, somebodi, cryin, feelin, c...</td>\n",
       "      <td>somewher tonight somebodi cryin feelin complet...</td>\n",
       "    </tr>\n",
       "    <tr>\n",
       "      <th>32586</th>\n",
       "      <td>Marilyn Manson</td>\n",
       "      <td>Apple Of Sodom</td>\n",
       "      <td>/m/marilyn+manson/apple+of+sodom_20089096.html</td>\n",
       "      <td>I've found the center of fruit as late  \\rIs t...</td>\n",
       "      <td>[alternative metal, industrial, industrial met...</td>\n",
       "      <td>1</td>\n",
       "      <td>0</td>\n",
       "      <td>0</td>\n",
       "      <td>1</td>\n",
       "      <td>0</td>\n",
       "      <td>0</td>\n",
       "      <td>0</td>\n",
       "      <td>ve find the center of fruit as late be the cen...</td>\n",
       "      <td>[find, center, fruit, late, center, truth, tod...</td>\n",
       "      <td>find center fruit late center truth today cut ...</td>\n",
       "    </tr>\n",
       "    <tr>\n",
       "      <th>28650</th>\n",
       "      <td>Kiss</td>\n",
       "      <td>I've Had Enough</td>\n",
       "      <td>/k/kiss/ive+had+enough_10159193.html</td>\n",
       "      <td>How many times have they lied with the truth i...</td>\n",
       "      <td>[album rock, classic rock, glam rock, hard roc...</td>\n",
       "      <td>1</td>\n",
       "      <td>0</td>\n",
       "      <td>0</td>\n",
       "      <td>1</td>\n",
       "      <td>0</td>\n",
       "      <td>0</td>\n",
       "      <td>0</td>\n",
       "      <td>how mani time have they lie with the truth in ...</td>\n",
       "      <td>[mani, time, lie, truth, eye, treat, like, dir...</td>\n",
       "      <td>mani time lie truth eye treat like dirt wast d...</td>\n",
       "    </tr>\n",
       "  </tbody>\n",
       "</table>\n",
       "</div>"
      ],
      "text/plain": [
       "               artist                        song  \\\n",
       "40373      Paul Simon                 Baby Driver   \n",
       "41147   Peter Gabriel                 San Jacinto   \n",
       "26951     Keith Urban  Sometimes Angels Can't Fly   \n",
       "32586  Marilyn Manson              Apple Of Sodom   \n",
       "28650            Kiss             I've Had Enough   \n",
       "\n",
       "                                                    link  \\\n",
       "40373            /p/paul+simon/baby+driver_20151462.html   \n",
       "41147         /p/peter+gabriel/san+jacinto_10204715.html   \n",
       "26951  /k/keith+urban/sometimes+angels+cant+fly_20571...   \n",
       "32586     /m/marilyn+manson/apple+of+sodom_20089096.html   \n",
       "28650               /k/kiss/ive+had+enough_10159193.html   \n",
       "\n",
       "                                                    text  \\\n",
       "40373  My daddy was the family bassman  \\rMy mamma wa...   \n",
       "41147  Thick cloud, steam rising, hissing stone on sw...   \n",
       "26951  Somewhere tonight, there's somebody cryin'  \\r...   \n",
       "32586  I've found the center of fruit as late  \\rIs t...   \n",
       "28650  How many times have they lied with the truth i...   \n",
       "\n",
       "                                                  genres  rock  \\\n",
       "40373  [classic rock, folk, folk rock, mellow gold, p...     1   \n",
       "41147  [album rock, art pop, art rock, classic rock, ...     1   \n",
       "26951  [australian country, australian pop, contempor...     0   \n",
       "32586  [alternative metal, industrial, industrial met...     1   \n",
       "28650  [album rock, classic rock, glam rock, hard roc...     1   \n",
       "\n",
       "       singer-songwriter  pop  metal  folk  country  hip hop / rap  \\\n",
       "40373                  1    0      0     1        0              0   \n",
       "41147                  0    1      0     0        0              0   \n",
       "26951                  0    1      0     0        1              0   \n",
       "32586                  0    0      1     0        0              0   \n",
       "28650                  0    0      1     0        0              0   \n",
       "\n",
       "                                       text_preprocessed  \\\n",
       "40373  my daddi be the famili bassman my mamma be an ...   \n",
       "41147  thick cloud steam rise hiss stone on sweat lod...   \n",
       "26951  somewher tonight there somebodi cryin and feel...   \n",
       "32586  ve find the center of fruit as late be the cen...   \n",
       "28650  how mani time have they lie with the truth in ...   \n",
       "\n",
       "                                                  tokens  \\\n",
       "40373  [daddi, famili, bassman, mamma, engin, bear, o...   \n",
       "41147  [thick, cloud, steam, rise, hiss, stone, sweat...   \n",
       "26951  [somewher, tonight, somebodi, cryin, feelin, c...   \n",
       "32586  [find, center, fruit, late, center, truth, tod...   \n",
       "28650  [mani, time, lie, truth, eye, treat, like, dir...   \n",
       "\n",
       "                                                stem_str  \n",
       "40373  daddi famili bassman mamma engin bear one dark...  \n",
       "41147  thick cloud steam rise hiss stone sweat lodg f...  \n",
       "26951  somewher tonight somebodi cryin feelin complet...  \n",
       "32586  find center fruit late center truth today cut ...  \n",
       "28650  mani time lie truth eye treat like dirt wast d...  "
      ]
     },
     "execution_count": 34,
     "metadata": {},
     "output_type": "execute_result"
    }
   ],
   "source": [
    "df_train.head()"
   ]
  },
  {
   "cell_type": "markdown",
   "metadata": {},
   "source": [
    "### Vectorization"
   ]
  },
  {
   "cell_type": "code",
   "execution_count": 35,
   "metadata": {},
   "outputs": [
    {
     "name": "stderr",
     "output_type": "stream",
     "text": [
      "C:\\Users\\tianj\\Anaconda3\\lib\\site-packages\\ipykernel_launcher.py:1: SettingWithCopyWarning:\n",
      "\n",
      "\n",
      "A value is trying to be set on a copy of a slice from a DataFrame.\n",
      "Try using .loc[row_indexer,col_indexer] = value instead\n",
      "\n",
      "See the caveats in the documentation: https://pandas.pydata.org/pandas-docs/stable/user_guide/indexing.html#returning-a-view-versus-a-copy\n",
      "\n"
     ]
    },
    {
     "data": {
      "text/html": [
       "<div>\n",
       "<style scoped>\n",
       "    .dataframe tbody tr th:only-of-type {\n",
       "        vertical-align: middle;\n",
       "    }\n",
       "\n",
       "    .dataframe tbody tr th {\n",
       "        vertical-align: top;\n",
       "    }\n",
       "\n",
       "    .dataframe thead th {\n",
       "        text-align: right;\n",
       "    }\n",
       "</style>\n",
       "<table border=\"1\" class=\"dataframe\">\n",
       "  <thead>\n",
       "    <tr style=\"text-align: right;\">\n",
       "      <th></th>\n",
       "      <th>artist</th>\n",
       "      <th>song</th>\n",
       "      <th>link</th>\n",
       "      <th>text</th>\n",
       "      <th>genres</th>\n",
       "      <th>rock</th>\n",
       "      <th>singer-songwriter</th>\n",
       "      <th>pop</th>\n",
       "      <th>metal</th>\n",
       "      <th>folk</th>\n",
       "      <th>country</th>\n",
       "      <th>hip hop / rap</th>\n",
       "      <th>text_preprocessed</th>\n",
       "      <th>tokens</th>\n",
       "      <th>stem_str</th>\n",
       "      <th>tokens2</th>\n",
       "    </tr>\n",
       "  </thead>\n",
       "  <tbody>\n",
       "    <tr>\n",
       "      <th>40373</th>\n",
       "      <td>Paul Simon</td>\n",
       "      <td>Baby Driver</td>\n",
       "      <td>/p/paul+simon/baby+driver_20151462.html</td>\n",
       "      <td>My daddy was the family bassman  \\rMy mamma wa...</td>\n",
       "      <td>[classic rock, folk, folk rock, mellow gold, p...</td>\n",
       "      <td>1</td>\n",
       "      <td>1</td>\n",
       "      <td>0</td>\n",
       "      <td>0</td>\n",
       "      <td>1</td>\n",
       "      <td>0</td>\n",
       "      <td>0</td>\n",
       "      <td>my daddi be the famili bassman my mamma be an ...</td>\n",
       "      <td>[daddi, famili, bassman, mamma, engin, bear, o...</td>\n",
       "      <td>daddi famili bassman mamma engin bear one dark...</td>\n",
       "      <td>'daddi', 'famili', 'bassman', 'mamma', 'engin'...</td>\n",
       "    </tr>\n",
       "    <tr>\n",
       "      <th>41147</th>\n",
       "      <td>Peter Gabriel</td>\n",
       "      <td>San Jacinto</td>\n",
       "      <td>/p/peter+gabriel/san+jacinto_10204715.html</td>\n",
       "      <td>Thick cloud, steam rising, hissing stone on sw...</td>\n",
       "      <td>[album rock, art pop, art rock, classic rock, ...</td>\n",
       "      <td>1</td>\n",
       "      <td>0</td>\n",
       "      <td>1</td>\n",
       "      <td>0</td>\n",
       "      <td>0</td>\n",
       "      <td>0</td>\n",
       "      <td>0</td>\n",
       "      <td>thick cloud steam rise hiss stone on sweat lod...</td>\n",
       "      <td>[thick, cloud, steam, rise, hiss, stone, sweat...</td>\n",
       "      <td>thick cloud steam rise hiss stone sweat lodg f...</td>\n",
       "      <td>'thick', 'cloud', 'steam', 'rise', 'hiss', 'st...</td>\n",
       "    </tr>\n",
       "    <tr>\n",
       "      <th>26951</th>\n",
       "      <td>Keith Urban</td>\n",
       "      <td>Sometimes Angels Can't Fly</td>\n",
       "      <td>/k/keith+urban/sometimes+angels+cant+fly_20571...</td>\n",
       "      <td>Somewhere tonight, there's somebody cryin'  \\r...</td>\n",
       "      <td>[australian country, australian pop, contempor...</td>\n",
       "      <td>0</td>\n",
       "      <td>0</td>\n",
       "      <td>1</td>\n",
       "      <td>0</td>\n",
       "      <td>0</td>\n",
       "      <td>1</td>\n",
       "      <td>0</td>\n",
       "      <td>somewher tonight there somebodi cryin and feel...</td>\n",
       "      <td>[somewher, tonight, somebodi, cryin, feelin, c...</td>\n",
       "      <td>somewher tonight somebodi cryin feelin complet...</td>\n",
       "      <td>'somewher', 'tonight', 'somebodi', 'cryin', 'f...</td>\n",
       "    </tr>\n",
       "    <tr>\n",
       "      <th>32586</th>\n",
       "      <td>Marilyn Manson</td>\n",
       "      <td>Apple Of Sodom</td>\n",
       "      <td>/m/marilyn+manson/apple+of+sodom_20089096.html</td>\n",
       "      <td>I've found the center of fruit as late  \\rIs t...</td>\n",
       "      <td>[alternative metal, industrial, industrial met...</td>\n",
       "      <td>1</td>\n",
       "      <td>0</td>\n",
       "      <td>0</td>\n",
       "      <td>1</td>\n",
       "      <td>0</td>\n",
       "      <td>0</td>\n",
       "      <td>0</td>\n",
       "      <td>ve find the center of fruit as late be the cen...</td>\n",
       "      <td>[find, center, fruit, late, center, truth, tod...</td>\n",
       "      <td>find center fruit late center truth today cut ...</td>\n",
       "      <td>'find', 'center', 'fruit', 'late', 'center', '...</td>\n",
       "    </tr>\n",
       "    <tr>\n",
       "      <th>28650</th>\n",
       "      <td>Kiss</td>\n",
       "      <td>I've Had Enough</td>\n",
       "      <td>/k/kiss/ive+had+enough_10159193.html</td>\n",
       "      <td>How many times have they lied with the truth i...</td>\n",
       "      <td>[album rock, classic rock, glam rock, hard roc...</td>\n",
       "      <td>1</td>\n",
       "      <td>0</td>\n",
       "      <td>0</td>\n",
       "      <td>1</td>\n",
       "      <td>0</td>\n",
       "      <td>0</td>\n",
       "      <td>0</td>\n",
       "      <td>how mani time have they lie with the truth in ...</td>\n",
       "      <td>[mani, time, lie, truth, eye, treat, like, dir...</td>\n",
       "      <td>mani time lie truth eye treat like dirt wast d...</td>\n",
       "      <td>'mani', 'time', 'lie', 'truth', 'eye', 'treat'...</td>\n",
       "    </tr>\n",
       "  </tbody>\n",
       "</table>\n",
       "</div>"
      ],
      "text/plain": [
       "               artist                        song  \\\n",
       "40373      Paul Simon                 Baby Driver   \n",
       "41147   Peter Gabriel                 San Jacinto   \n",
       "26951     Keith Urban  Sometimes Angels Can't Fly   \n",
       "32586  Marilyn Manson              Apple Of Sodom   \n",
       "28650            Kiss             I've Had Enough   \n",
       "\n",
       "                                                    link  \\\n",
       "40373            /p/paul+simon/baby+driver_20151462.html   \n",
       "41147         /p/peter+gabriel/san+jacinto_10204715.html   \n",
       "26951  /k/keith+urban/sometimes+angels+cant+fly_20571...   \n",
       "32586     /m/marilyn+manson/apple+of+sodom_20089096.html   \n",
       "28650               /k/kiss/ive+had+enough_10159193.html   \n",
       "\n",
       "                                                    text  \\\n",
       "40373  My daddy was the family bassman  \\rMy mamma wa...   \n",
       "41147  Thick cloud, steam rising, hissing stone on sw...   \n",
       "26951  Somewhere tonight, there's somebody cryin'  \\r...   \n",
       "32586  I've found the center of fruit as late  \\rIs t...   \n",
       "28650  How many times have they lied with the truth i...   \n",
       "\n",
       "                                                  genres  rock  \\\n",
       "40373  [classic rock, folk, folk rock, mellow gold, p...     1   \n",
       "41147  [album rock, art pop, art rock, classic rock, ...     1   \n",
       "26951  [australian country, australian pop, contempor...     0   \n",
       "32586  [alternative metal, industrial, industrial met...     1   \n",
       "28650  [album rock, classic rock, glam rock, hard roc...     1   \n",
       "\n",
       "       singer-songwriter  pop  metal  folk  country  hip hop / rap  \\\n",
       "40373                  1    0      0     1        0              0   \n",
       "41147                  0    1      0     0        0              0   \n",
       "26951                  0    1      0     0        1              0   \n",
       "32586                  0    0      1     0        0              0   \n",
       "28650                  0    0      1     0        0              0   \n",
       "\n",
       "                                       text_preprocessed  \\\n",
       "40373  my daddi be the famili bassman my mamma be an ...   \n",
       "41147  thick cloud steam rise hiss stone on sweat lod...   \n",
       "26951  somewher tonight there somebodi cryin and feel...   \n",
       "32586  ve find the center of fruit as late be the cen...   \n",
       "28650  how mani time have they lie with the truth in ...   \n",
       "\n",
       "                                                  tokens  \\\n",
       "40373  [daddi, famili, bassman, mamma, engin, bear, o...   \n",
       "41147  [thick, cloud, steam, rise, hiss, stone, sweat...   \n",
       "26951  [somewher, tonight, somebodi, cryin, feelin, c...   \n",
       "32586  [find, center, fruit, late, center, truth, tod...   \n",
       "28650  [mani, time, lie, truth, eye, treat, like, dir...   \n",
       "\n",
       "                                                stem_str  \\\n",
       "40373  daddi famili bassman mamma engin bear one dark...   \n",
       "41147  thick cloud steam rise hiss stone sweat lodg f...   \n",
       "26951  somewher tonight somebodi cryin feelin complet...   \n",
       "32586  find center fruit late center truth today cut ...   \n",
       "28650  mani time lie truth eye treat like dirt wast d...   \n",
       "\n",
       "                                                 tokens2  \n",
       "40373  'daddi', 'famili', 'bassman', 'mamma', 'engin'...  \n",
       "41147  'thick', 'cloud', 'steam', 'rise', 'hiss', 'st...  \n",
       "26951  'somewher', 'tonight', 'somebodi', 'cryin', 'f...  \n",
       "32586  'find', 'center', 'fruit', 'late', 'center', '...  \n",
       "28650  'mani', 'time', 'lie', 'truth', 'eye', 'treat'...  "
      ]
     },
     "execution_count": 35,
     "metadata": {},
     "output_type": "execute_result"
    }
   ],
   "source": [
    "df_train['tokens2']=df_train.tokens.apply(lambda x:str(x).strip('[]'))\n",
    "df_train.head()                  "
   ]
  },
  {
   "cell_type": "markdown",
   "metadata": {},
   "source": [
    "we want to keep: \n",
    "\n",
    "artists\n",
    "\n",
    "song title\n",
    "\n",
    "tokens2 (name it lyrics)\n",
    "\n",
    "genre x7"
   ]
  },
  {
   "cell_type": "markdown",
   "metadata": {},
   "source": [
    "## Doc2Vec"
   ]
  },
  {
   "cell_type": "code",
   "execution_count": 36,
   "metadata": {},
   "outputs": [],
   "source": [
    "train_tokens_documents = [TaggedDocument(doc, [i]) for i, doc in enumerate(df_train.tokens)]"
   ]
  },
  {
   "cell_type": "code",
   "execution_count": 37,
   "metadata": {},
   "outputs": [
    {
     "data": {
      "text/plain": [
       "TaggedDocument(words=['thick', 'cloud', 'steam', 'rise', 'hiss', 'stone', 'sweat', 'lodg', 'fire', 'around', 'buffalo', 'robe', 'sage', 'bundl', 'rub', 'skin', 'outsid', 'cold', 'air', 'stand', 'wait', 'rise', 'sun', 'red', 'paint', 'eagl', 'feather', 'coyot', 'call', 'begin', 'someth', 'move', 'tast', 'mouth', 'heart', 'feel', 'like', 'die', 'slow', 'let', 'go', 'life', 'medicin', 'man', 'lead', 'though', 'town', 'indian', 'grind', 'far', 'cut', 'land', 'hous', 'pool', 'kid', 'wear', 'water', 'wing', 'drink', 'cool', 'follow', 'dri', 'river', 'bed', 'watch', 'scout', 'guid', 'make', 'pow', 'wow', 'sign', 'past', 'geronimo', 'disco', 'sit', 'bull', 'steakhous', 'white', 'men', 'dream', 'rattl', 'old', 'man', 'sack', 'look', 'mountain', 'top', 'keep', 'climb', 'way', 'abov', 'us', 'desert', 'snow', 'white', 'wind', 'blow', 'hold', 'line', 'line', 'strength', 'pull', 'fear', 'san', 'jacinto', 'hold', 'line', 'san', 'jacinto', 'poison', 'bite', 'dark', 'take', 'sight', 'hold', 'line', 'tear', 'roll', 'swell', 'cheek', 'think', 'lose', 'get', 'weaker', 'hold', 'line', 'hold', 'line', 'san', 'jacinto', 'yellow', 'eagl', 'fli', 'sun', 'sun', 'walk', 'land', 'breath', 'air', 'drink', 'stream', 'live', 'hold', 'line', 'hold', 'line', 'hold', 'line'], tags=[1])"
      ]
     },
     "execution_count": 37,
     "metadata": {},
     "output_type": "execute_result"
    }
   ],
   "source": [
    "train_tokens_documents[1]"
   ]
  },
  {
   "cell_type": "code",
   "execution_count": 38,
   "metadata": {},
   "outputs": [],
   "source": [
    "model_train = gensim.models.doc2vec.Doc2Vec(train_tokens_documents,\n",
    "                                            vector_size = 50, \n",
    "                                            min_count = 2, \n",
    "                                            epochs = 20) #Takes 5min"
   ]
  },
  {
   "cell_type": "code",
   "execution_count": 39,
   "metadata": {},
   "outputs": [],
   "source": [
    "model_train.train(train_tokens_documents, \n",
    "                  total_examples = model_train.corpus_count, \n",
    "                  epochs = model_train.epochs) #Takes 5min"
   ]
  },
  {
   "cell_type": "code",
   "execution_count": 40,
   "metadata": {},
   "outputs": [
    {
     "data": {
      "text/plain": [
       "array([ 0.08475662,  1.3761533 , -0.5588185 ,  0.11752684,  2.2714608 ,\n",
       "        0.0562108 , -0.00347753, -2.36126   ,  0.0293406 , -1.5405602 ,\n",
       "        0.23659953, -1.6832412 , -0.01126645,  0.35125804,  0.4581896 ,\n",
       "        0.75753623, -0.3104734 ,  0.03815316,  0.23960365,  1.1894764 ,\n",
       "       -0.11772769,  0.57643664,  1.3587031 ,  0.9474954 ,  0.45312917,\n",
       "       -1.1637137 , -0.2701957 ,  0.94534004, -0.21243228,  0.519806  ,\n",
       "       -1.7390851 , -0.32897037,  1.4100754 , -0.7008101 ,  1.472671  ,\n",
       "        0.27304086, -0.9464377 , -0.44091222,  0.8195579 ,  0.07797348,\n",
       "       -0.69892615, -1.0870702 ,  0.7338403 , -1.444114  ,  0.04592748,\n",
       "       -1.0244366 , -0.6079197 , -0.42977798, -1.0596353 ,  0.40613478],\n",
       "      dtype=float32)"
      ]
     },
     "execution_count": 40,
     "metadata": {},
     "output_type": "execute_result"
    }
   ],
   "source": [
    "# used for running predictions on new data\n",
    "model_train.infer_vector(train_tokens_documents[0].words, steps=20) #This changes every time. But within a certain range."
   ]
  },
  {
   "cell_type": "code",
   "execution_count": 41,
   "metadata": {},
   "outputs": [],
   "source": [
    "def vector_for_learning(model, input_docs):\n",
    "    sents = input_docs\n",
    "    targets, feature_vectors = zip(*[(doc.tags[0], model.infer_vector(doc.words, steps=20)) for doc in sents])\n",
    "    return targets, feature_vectors"
   ]
  },
  {
   "cell_type": "code",
   "execution_count": 42,
   "metadata": {},
   "outputs": [],
   "source": [
    "target_train, veclyrics_doc2vec_train = vector_for_learning(model_train, train_tokens_documents) #Takes 5min"
   ]
  },
  {
   "cell_type": "code",
   "execution_count": 43,
   "metadata": {},
   "outputs": [
    {
     "data": {
      "text/plain": [
       "array([-0.05485782,  1.2927572 , -0.6623983 , -0.07667152,  2.3892844 ,\n",
       "        0.0284148 , -0.14886579, -2.3995256 , -0.10637041, -1.6963567 ,\n",
       "        0.1137131 , -1.7074509 ,  0.24779586,  0.28374553,  0.18758109,\n",
       "        0.7104693 , -0.35393214, -0.16427743,  0.39106247,  1.3456806 ,\n",
       "       -0.11194604,  0.55751544,  1.0971428 ,  1.0146092 ,  0.47847277,\n",
       "       -1.1692252 , -0.15796492,  0.9106517 , -0.1385818 ,  0.5738896 ,\n",
       "       -1.5204576 , -0.4767453 ,  1.391366  , -0.7609993 ,  1.4421828 ,\n",
       "        0.28374863, -0.7967517 , -0.17051506,  0.87783676,  0.14334075,\n",
       "       -0.6873524 , -0.6699573 ,  0.8795034 , -1.5488001 ,  0.3306943 ,\n",
       "       -1.1330358 , -0.5784432 , -0.39463815, -0.9420877 ,  0.40650827],\n",
       "      dtype=float32)"
      ]
     },
     "execution_count": 43,
     "metadata": {},
     "output_type": "execute_result"
    }
   ],
   "source": [
    "veclyrics_doc2vec_train[0]"
   ]
  },
  {
   "cell_type": "code",
   "execution_count": 44,
   "metadata": {},
   "outputs": [
    {
     "data": {
      "text/plain": [
       "tuple"
      ]
     },
     "execution_count": 44,
     "metadata": {},
     "output_type": "execute_result"
    }
   ],
   "source": [
    "type(veclyrics_doc2vec_train)"
   ]
  },
  {
   "cell_type": "code",
   "execution_count": 45,
   "metadata": {},
   "outputs": [
    {
     "data": {
      "text/plain": [
       "40898"
      ]
     },
     "execution_count": 45,
     "metadata": {},
     "output_type": "execute_result"
    }
   ],
   "source": [
    "len(veclyrics_doc2vec_train)"
   ]
  },
  {
   "cell_type": "markdown",
   "metadata": {},
   "source": [
    "## Text PreProcess - df Test"
   ]
  },
  {
   "cell_type": "code",
   "execution_count": 46,
   "metadata": {},
   "outputs": [
    {
     "name": "stdout",
     "output_type": "stream",
     "text": [
      "10986\n"
     ]
    }
   ],
   "source": [
    "#examining text in round brackets\n",
    "round_brackets = sum(list(df_test['text'].map(lambda s: re.findall(r'\\((.*?)\\)',s))), [])\n",
    "#Number of round brackets:\n",
    "print((len(round_brackets)))"
   ]
  },
  {
   "cell_type": "code",
   "execution_count": 47,
   "metadata": {},
   "outputs": [
    {
     "data": {
      "text/plain": [
       "['around',\n",
       " 'Oh!',\n",
       " 'For your love',\n",
       " 'talking',\n",
       " 'I love a lonely day',\n",
       " \"Dancin' in the streets\",\n",
       " \"Don't tease me baby\",\n",
       " 'ooh',\n",
       " \"Daddy's little girl\",\n",
       " 'Have no fear',\n",
       " 'gangsta',\n",
       " 'I see Jesus standing waiting for me',\n",
       " 'Love will mend your broken wing',\n",
       " \"And I'm nervous\",\n",
       " 'you know I want ya babe']"
      ]
     },
     "execution_count": 47,
     "metadata": {},
     "output_type": "execute_result"
    }
   ],
   "source": [
    "#Viewing some text in round brackets\n",
    "#These just look like normal lyrics\n",
    "random.seed(0)\n",
    "random.choices(round_brackets, k=15)"
   ]
  },
  {
   "cell_type": "code",
   "execution_count": 48,
   "metadata": {},
   "outputs": [
    {
     "name": "stdout",
     "output_type": "stream",
     "text": [
      "5128\n"
     ]
    }
   ],
   "source": [
    "#examining text in square brackets\n",
    "square_brackets = sum(list(df_test['text'].map(lambda s: re.findall(r'\\[(.*?)\\]',s))), [])\n",
    "#how many instances of square brackets?\n",
    "print((len(square_brackets)))"
   ]
  },
  {
   "cell_type": "code",
   "execution_count": 49,
   "metadata": {},
   "outputs": [
    {
     "name": "stderr",
     "output_type": "stream",
     "text": [
      "C:\\Users\\tianj\\Anaconda3\\lib\\site-packages\\ipykernel_launcher.py:3: SettingWithCopyWarning:\n",
      "\n",
      "\n",
      "A value is trying to be set on a copy of a slice from a DataFrame.\n",
      "Try using .loc[row_indexer,col_indexer] = value instead\n",
      "\n",
      "See the caveats in the documentation: https://pandas.pydata.org/pandas-docs/stable/user_guide/indexing.html#returning-a-view-versus-a-copy\n",
      "\n",
      "C:\\Users\\tianj\\Anaconda3\\lib\\site-packages\\ipykernel_launcher.py:6: SettingWithCopyWarning:\n",
      "\n",
      "\n",
      "A value is trying to be set on a copy of a slice from a DataFrame.\n",
      "Try using .loc[row_indexer,col_indexer] = value instead\n",
      "\n",
      "See the caveats in the documentation: https://pandas.pydata.org/pandas-docs/stable/user_guide/indexing.html#returning-a-view-versus-a-copy\n",
      "\n"
     ]
    }
   ],
   "source": [
    "#re.sub(pattern, repl, string, count=0, flags=0)\n",
    "# remove round brackets but not text within\n",
    "df_test['text'] = df_test['text'].map(lambda s: re.sub(r'\\(|\\)', '', s))\n",
    "\n",
    "# remove square brackest and text within\n",
    "df_test['text'] = df_test['text'].map(lambda s: re.sub(r'\\[(.*?)\\] ', '', s))"
   ]
  },
  {
   "cell_type": "code",
   "execution_count": 50,
   "metadata": {},
   "outputs": [
    {
     "name": "stderr",
     "output_type": "stream",
     "text": [
      "C:\\Users\\tianj\\Anaconda3\\lib\\site-packages\\ipykernel_launcher.py:2: SettingWithCopyWarning:\n",
      "\n",
      "\n",
      "A value is trying to be set on a copy of a slice from a DataFrame.\n",
      "Try using .loc[row_indexer,col_indexer] = value instead\n",
      "\n",
      "See the caveats in the documentation: https://pandas.pydata.org/pandas-docs/stable/user_guide/indexing.html#returning-a-view-versus-a-copy\n",
      "\n"
     ]
    }
   ],
   "source": [
    "# remove line breaks\n",
    "df_test['text'] = df_test['text'].map(lambda s: re.sub(r' \\n|\\n', '', s))"
   ]
  },
  {
   "cell_type": "markdown",
   "metadata": {},
   "source": [
    "### Stemming and Preprocessing"
   ]
  },
  {
   "cell_type": "code",
   "execution_count": 51,
   "metadata": {},
   "outputs": [],
   "source": [
    "stemmer = PorterStemmer()\n",
    "def lemmatize_stemming(text):\n",
    " \n",
    "    return stemmer.stem(WordNetLemmatizer().lemmatize(text, pos='v'))\n",
    "\n",
    "def preprocess(text):\n",
    "\n",
    "    result = []\n",
    "    #stopwords = list(gensim.parsing.preprocessing.STOPWORDS)\n",
    "    #stopwords.pop(stopwords.index('no'))\n",
    "    for token in gensim.utils.simple_preprocess(text):\n",
    "        #if token not in set(stopwords):\n",
    "        result.append(lemmatize_stemming(token))\n",
    "    return ' '.join(result)"
   ]
  },
  {
   "cell_type": "code",
   "execution_count": 52,
   "metadata": {},
   "outputs": [
    {
     "name": "stderr",
     "output_type": "stream",
     "text": [
      "C:\\Users\\tianj\\Anaconda3\\lib\\site-packages\\ipykernel_launcher.py:1: SettingWithCopyWarning:\n",
      "\n",
      "\n",
      "A value is trying to be set on a copy of a slice from a DataFrame.\n",
      "Try using .loc[row_indexer,col_indexer] = value instead\n",
      "\n",
      "See the caveats in the documentation: https://pandas.pydata.org/pandas-docs/stable/user_guide/indexing.html#returning-a-view-versus-a-copy\n",
      "\n"
     ]
    }
   ],
   "source": [
    "df_test['text_preprocessed'] = df_test['text'].map(preprocess)"
   ]
  },
  {
   "cell_type": "code",
   "execution_count": 53,
   "metadata": {},
   "outputs": [
    {
     "data": {
      "text/html": [
       "<div>\n",
       "<style scoped>\n",
       "    .dataframe tbody tr th:only-of-type {\n",
       "        vertical-align: middle;\n",
       "    }\n",
       "\n",
       "    .dataframe tbody tr th {\n",
       "        vertical-align: top;\n",
       "    }\n",
       "\n",
       "    .dataframe thead th {\n",
       "        text-align: right;\n",
       "    }\n",
       "</style>\n",
       "<table border=\"1\" class=\"dataframe\">\n",
       "  <thead>\n",
       "    <tr style=\"text-align: right;\">\n",
       "      <th></th>\n",
       "      <th>artist</th>\n",
       "      <th>song</th>\n",
       "      <th>link</th>\n",
       "      <th>text</th>\n",
       "      <th>genres</th>\n",
       "      <th>rock</th>\n",
       "      <th>singer-songwriter</th>\n",
       "      <th>pop</th>\n",
       "      <th>metal</th>\n",
       "      <th>folk</th>\n",
       "      <th>country</th>\n",
       "      <th>hip hop / rap</th>\n",
       "      <th>text_preprocessed</th>\n",
       "    </tr>\n",
       "  </thead>\n",
       "  <tbody>\n",
       "    <tr>\n",
       "      <th>41483</th>\n",
       "      <td>Phish</td>\n",
       "      <td>Back On The Train</td>\n",
       "      <td>/p/phish/back+on+the+train_20152042.html</td>\n",
       "      <td>When I jumped off, I had a bucket full of thou...</td>\n",
       "      <td>[blues rock, jam band, roots rock]</td>\n",
       "      <td>1</td>\n",
       "      <td>0</td>\n",
       "      <td>0</td>\n",
       "      <td>0</td>\n",
       "      <td>0</td>\n",
       "      <td>0</td>\n",
       "      <td>0</td>\n",
       "      <td>when jump off have bucket full of thought when...</td>\n",
       "    </tr>\n",
       "    <tr>\n",
       "      <th>26062</th>\n",
       "      <td>Judds</td>\n",
       "      <td>In My Dreams</td>\n",
       "      <td>/j/judds/in+my+dreams_20076332.html</td>\n",
       "      <td>In my dreams  \\rYou belong to me  \\rShe doesn'...</td>\n",
       "      <td>[country, country dawn, country rock]</td>\n",
       "      <td>1</td>\n",
       "      <td>0</td>\n",
       "      <td>0</td>\n",
       "      <td>0</td>\n",
       "      <td>0</td>\n",
       "      <td>1</td>\n",
       "      <td>0</td>\n",
       "      <td>in my dream you belong to me she doesn mean th...</td>\n",
       "    </tr>\n",
       "    <tr>\n",
       "      <th>135</th>\n",
       "      <td>Ace Of Base</td>\n",
       "      <td>C'est La Vie</td>\n",
       "      <td>/a/ace+of+base/cest+la+vie_10002096.html</td>\n",
       "      <td>I am as young as I'm feeling  \\rI'm always 21,...</td>\n",
       "      <td>[bubblegum dance, dance pop, eurodance, europo...</td>\n",
       "      <td>1</td>\n",
       "      <td>0</td>\n",
       "      <td>1</td>\n",
       "      <td>0</td>\n",
       "      <td>0</td>\n",
       "      <td>0</td>\n",
       "      <td>0</td>\n",
       "      <td>be as young as feel alway be alway est la vie ...</td>\n",
       "    </tr>\n",
       "    <tr>\n",
       "      <th>18079</th>\n",
       "      <td>Glee</td>\n",
       "      <td>Listen</td>\n",
       "      <td>/g/glee/listen_20889265.html</td>\n",
       "      <td>Listen  \\rTo the song here in my heart  \\rA me...</td>\n",
       "      <td>[glee club, hollywood, post-teen pop, viral pop]</td>\n",
       "      <td>0</td>\n",
       "      <td>0</td>\n",
       "      <td>1</td>\n",
       "      <td>0</td>\n",
       "      <td>0</td>\n",
       "      <td>0</td>\n",
       "      <td>0</td>\n",
       "      <td>listen to the song here in my heart melodi sta...</td>\n",
       "    </tr>\n",
       "    <tr>\n",
       "      <th>19557</th>\n",
       "      <td>Hank Snow</td>\n",
       "      <td>Just Keep A Movin'</td>\n",
       "      <td>/h/hank+snow/just+keep+a+movin_20797171.html</td>\n",
       "      <td>Just keep a movin' wherever you were movin'  \\...</td>\n",
       "      <td>[canadian country, canadian singer-songwriter,...</td>\n",
       "      <td>0</td>\n",
       "      <td>1</td>\n",
       "      <td>0</td>\n",
       "      <td>0</td>\n",
       "      <td>0</td>\n",
       "      <td>1</td>\n",
       "      <td>0</td>\n",
       "      <td>just keep movin wherev you be movin they tell ...</td>\n",
       "    </tr>\n",
       "  </tbody>\n",
       "</table>\n",
       "</div>"
      ],
      "text/plain": [
       "            artist                song  \\\n",
       "41483        Phish   Back On The Train   \n",
       "26062        Judds        In My Dreams   \n",
       "135    Ace Of Base        C'est La Vie   \n",
       "18079         Glee              Listen   \n",
       "19557    Hank Snow  Just Keep A Movin'   \n",
       "\n",
       "                                               link  \\\n",
       "41483      /p/phish/back+on+the+train_20152042.html   \n",
       "26062           /j/judds/in+my+dreams_20076332.html   \n",
       "135        /a/ace+of+base/cest+la+vie_10002096.html   \n",
       "18079                  /g/glee/listen_20889265.html   \n",
       "19557  /h/hank+snow/just+keep+a+movin_20797171.html   \n",
       "\n",
       "                                                    text  \\\n",
       "41483  When I jumped off, I had a bucket full of thou...   \n",
       "26062  In my dreams  \\rYou belong to me  \\rShe doesn'...   \n",
       "135    I am as young as I'm feeling  \\rI'm always 21,...   \n",
       "18079  Listen  \\rTo the song here in my heart  \\rA me...   \n",
       "19557  Just keep a movin' wherever you were movin'  \\...   \n",
       "\n",
       "                                                  genres  rock  \\\n",
       "41483                 [blues rock, jam band, roots rock]     1   \n",
       "26062              [country, country dawn, country rock]     1   \n",
       "135    [bubblegum dance, dance pop, eurodance, europo...     1   \n",
       "18079   [glee club, hollywood, post-teen pop, viral pop]     0   \n",
       "19557  [canadian country, canadian singer-songwriter,...     0   \n",
       "\n",
       "       singer-songwriter  pop  metal  folk  country  hip hop / rap  \\\n",
       "41483                  0    0      0     0        0              0   \n",
       "26062                  0    0      0     0        1              0   \n",
       "135                    0    1      0     0        0              0   \n",
       "18079                  0    1      0     0        0              0   \n",
       "19557                  1    0      0     0        1              0   \n",
       "\n",
       "                                       text_preprocessed  \n",
       "41483  when jump off have bucket full of thought when...  \n",
       "26062  in my dream you belong to me she doesn mean th...  \n",
       "135    be as young as feel alway be alway est la vie ...  \n",
       "18079  listen to the song here in my heart melodi sta...  \n",
       "19557  just keep movin wherev you be movin they tell ...  "
      ]
     },
     "execution_count": 53,
     "metadata": {},
     "output_type": "execute_result"
    }
   ],
   "source": [
    "df_test.head()"
   ]
  },
  {
   "cell_type": "code",
   "execution_count": 54,
   "metadata": {},
   "outputs": [
    {
     "data": {
      "text/plain": [
       "41483    when jump off have bucket full of thought when...\n",
       "26062    in my dream you belong to me she doesn mean th...\n",
       "135      be as young as feel alway be alway est la vie ...\n",
       "18079    listen to the song here in my heart melodi sta...\n",
       "19557    just keep movin wherev you be movin they tell ...\n",
       "Name: text_preprocessed, dtype: object"
      ]
     },
     "execution_count": 54,
     "metadata": {},
     "output_type": "execute_result"
    }
   ],
   "source": [
    "#Checking what the tokens column look like before removing stopwords\n",
    "df_test['text_preprocessed'].head()"
   ]
  },
  {
   "cell_type": "code",
   "execution_count": 55,
   "metadata": {},
   "outputs": [],
   "source": [
    "#safety\n",
    "df_test2 = df_test"
   ]
  },
  {
   "cell_type": "markdown",
   "metadata": {},
   "source": [
    "## Tokenization"
   ]
  },
  {
   "cell_type": "code",
   "execution_count": 56,
   "metadata": {},
   "outputs": [
    {
     "name": "stderr",
     "output_type": "stream",
     "text": [
      "C:\\Users\\tianj\\Anaconda3\\lib\\site-packages\\ipykernel_launcher.py:5: SettingWithCopyWarning:\n",
      "\n",
      "\n",
      "A value is trying to be set on a copy of a slice from a DataFrame.\n",
      "Try using .loc[row_indexer,col_indexer] = value instead\n",
      "\n",
      "See the caveats in the documentation: https://pandas.pydata.org/pandas-docs/stable/user_guide/indexing.html#returning-a-view-versus-a-copy\n",
      "\n"
     ]
    }
   ],
   "source": [
    "#w+ for whitespace\n",
    "tokenizer = nltk.tokenize.RegexpTokenizer(r'\\w+')\n",
    "\n",
    "#creating a new column called tokens\n",
    "df_test['tokens'] = df_test['text_preprocessed'].map(tokenizer.tokenize)"
   ]
  },
  {
   "cell_type": "code",
   "execution_count": 57,
   "metadata": {},
   "outputs": [
    {
     "data": {
      "text/html": [
       "<div>\n",
       "<style scoped>\n",
       "    .dataframe tbody tr th:only-of-type {\n",
       "        vertical-align: middle;\n",
       "    }\n",
       "\n",
       "    .dataframe tbody tr th {\n",
       "        vertical-align: top;\n",
       "    }\n",
       "\n",
       "    .dataframe thead th {\n",
       "        text-align: right;\n",
       "    }\n",
       "</style>\n",
       "<table border=\"1\" class=\"dataframe\">\n",
       "  <thead>\n",
       "    <tr style=\"text-align: right;\">\n",
       "      <th></th>\n",
       "      <th>artist</th>\n",
       "      <th>song</th>\n",
       "      <th>link</th>\n",
       "      <th>text</th>\n",
       "      <th>genres</th>\n",
       "      <th>rock</th>\n",
       "      <th>singer-songwriter</th>\n",
       "      <th>pop</th>\n",
       "      <th>metal</th>\n",
       "      <th>folk</th>\n",
       "      <th>country</th>\n",
       "      <th>hip hop / rap</th>\n",
       "      <th>text_preprocessed</th>\n",
       "      <th>tokens</th>\n",
       "    </tr>\n",
       "  </thead>\n",
       "  <tbody>\n",
       "    <tr>\n",
       "      <th>41483</th>\n",
       "      <td>Phish</td>\n",
       "      <td>Back On The Train</td>\n",
       "      <td>/p/phish/back+on+the+train_20152042.html</td>\n",
       "      <td>When I jumped off, I had a bucket full of thou...</td>\n",
       "      <td>[blues rock, jam band, roots rock]</td>\n",
       "      <td>1</td>\n",
       "      <td>0</td>\n",
       "      <td>0</td>\n",
       "      <td>0</td>\n",
       "      <td>0</td>\n",
       "      <td>0</td>\n",
       "      <td>0</td>\n",
       "      <td>when jump off have bucket full of thought when...</td>\n",
       "      <td>[when, jump, off, have, bucket, full, of, thou...</td>\n",
       "    </tr>\n",
       "    <tr>\n",
       "      <th>26062</th>\n",
       "      <td>Judds</td>\n",
       "      <td>In My Dreams</td>\n",
       "      <td>/j/judds/in+my+dreams_20076332.html</td>\n",
       "      <td>In my dreams  \\rYou belong to me  \\rShe doesn'...</td>\n",
       "      <td>[country, country dawn, country rock]</td>\n",
       "      <td>1</td>\n",
       "      <td>0</td>\n",
       "      <td>0</td>\n",
       "      <td>0</td>\n",
       "      <td>0</td>\n",
       "      <td>1</td>\n",
       "      <td>0</td>\n",
       "      <td>in my dream you belong to me she doesn mean th...</td>\n",
       "      <td>[in, my, dream, you, belong, to, me, she, does...</td>\n",
       "    </tr>\n",
       "    <tr>\n",
       "      <th>135</th>\n",
       "      <td>Ace Of Base</td>\n",
       "      <td>C'est La Vie</td>\n",
       "      <td>/a/ace+of+base/cest+la+vie_10002096.html</td>\n",
       "      <td>I am as young as I'm feeling  \\rI'm always 21,...</td>\n",
       "      <td>[bubblegum dance, dance pop, eurodance, europo...</td>\n",
       "      <td>1</td>\n",
       "      <td>0</td>\n",
       "      <td>1</td>\n",
       "      <td>0</td>\n",
       "      <td>0</td>\n",
       "      <td>0</td>\n",
       "      <td>0</td>\n",
       "      <td>be as young as feel alway be alway est la vie ...</td>\n",
       "      <td>[be, as, young, as, feel, alway, be, alway, es...</td>\n",
       "    </tr>\n",
       "    <tr>\n",
       "      <th>18079</th>\n",
       "      <td>Glee</td>\n",
       "      <td>Listen</td>\n",
       "      <td>/g/glee/listen_20889265.html</td>\n",
       "      <td>Listen  \\rTo the song here in my heart  \\rA me...</td>\n",
       "      <td>[glee club, hollywood, post-teen pop, viral pop]</td>\n",
       "      <td>0</td>\n",
       "      <td>0</td>\n",
       "      <td>1</td>\n",
       "      <td>0</td>\n",
       "      <td>0</td>\n",
       "      <td>0</td>\n",
       "      <td>0</td>\n",
       "      <td>listen to the song here in my heart melodi sta...</td>\n",
       "      <td>[listen, to, the, song, here, in, my, heart, m...</td>\n",
       "    </tr>\n",
       "    <tr>\n",
       "      <th>19557</th>\n",
       "      <td>Hank Snow</td>\n",
       "      <td>Just Keep A Movin'</td>\n",
       "      <td>/h/hank+snow/just+keep+a+movin_20797171.html</td>\n",
       "      <td>Just keep a movin' wherever you were movin'  \\...</td>\n",
       "      <td>[canadian country, canadian singer-songwriter,...</td>\n",
       "      <td>0</td>\n",
       "      <td>1</td>\n",
       "      <td>0</td>\n",
       "      <td>0</td>\n",
       "      <td>0</td>\n",
       "      <td>1</td>\n",
       "      <td>0</td>\n",
       "      <td>just keep movin wherev you be movin they tell ...</td>\n",
       "      <td>[just, keep, movin, wherev, you, be, movin, th...</td>\n",
       "    </tr>\n",
       "  </tbody>\n",
       "</table>\n",
       "</div>"
      ],
      "text/plain": [
       "            artist                song  \\\n",
       "41483        Phish   Back On The Train   \n",
       "26062        Judds        In My Dreams   \n",
       "135    Ace Of Base        C'est La Vie   \n",
       "18079         Glee              Listen   \n",
       "19557    Hank Snow  Just Keep A Movin'   \n",
       "\n",
       "                                               link  \\\n",
       "41483      /p/phish/back+on+the+train_20152042.html   \n",
       "26062           /j/judds/in+my+dreams_20076332.html   \n",
       "135        /a/ace+of+base/cest+la+vie_10002096.html   \n",
       "18079                  /g/glee/listen_20889265.html   \n",
       "19557  /h/hank+snow/just+keep+a+movin_20797171.html   \n",
       "\n",
       "                                                    text  \\\n",
       "41483  When I jumped off, I had a bucket full of thou...   \n",
       "26062  In my dreams  \\rYou belong to me  \\rShe doesn'...   \n",
       "135    I am as young as I'm feeling  \\rI'm always 21,...   \n",
       "18079  Listen  \\rTo the song here in my heart  \\rA me...   \n",
       "19557  Just keep a movin' wherever you were movin'  \\...   \n",
       "\n",
       "                                                  genres  rock  \\\n",
       "41483                 [blues rock, jam band, roots rock]     1   \n",
       "26062              [country, country dawn, country rock]     1   \n",
       "135    [bubblegum dance, dance pop, eurodance, europo...     1   \n",
       "18079   [glee club, hollywood, post-teen pop, viral pop]     0   \n",
       "19557  [canadian country, canadian singer-songwriter,...     0   \n",
       "\n",
       "       singer-songwriter  pop  metal  folk  country  hip hop / rap  \\\n",
       "41483                  0    0      0     0        0              0   \n",
       "26062                  0    0      0     0        1              0   \n",
       "135                    0    1      0     0        0              0   \n",
       "18079                  0    1      0     0        0              0   \n",
       "19557                  1    0      0     0        1              0   \n",
       "\n",
       "                                       text_preprocessed  \\\n",
       "41483  when jump off have bucket full of thought when...   \n",
       "26062  in my dream you belong to me she doesn mean th...   \n",
       "135    be as young as feel alway be alway est la vie ...   \n",
       "18079  listen to the song here in my heart melodi sta...   \n",
       "19557  just keep movin wherev you be movin they tell ...   \n",
       "\n",
       "                                                  tokens  \n",
       "41483  [when, jump, off, have, bucket, full, of, thou...  \n",
       "26062  [in, my, dream, you, belong, to, me, she, does...  \n",
       "135    [be, as, young, as, feel, alway, be, alway, es...  \n",
       "18079  [listen, to, the, song, here, in, my, heart, m...  \n",
       "19557  [just, keep, movin, wherev, you, be, movin, th...  "
      ]
     },
     "execution_count": 57,
     "metadata": {},
     "output_type": "execute_result"
    }
   ],
   "source": [
    "df_test.head()"
   ]
  },
  {
   "cell_type": "markdown",
   "metadata": {},
   "source": [
    "### Removing stop words\n",
    "Reference for more info: https://www.geeksforgeeks.org/removing-stop-words-nltk-python/"
   ]
  },
  {
   "cell_type": "code",
   "execution_count": 58,
   "metadata": {},
   "outputs": [
    {
     "name": "stderr",
     "output_type": "stream",
     "text": [
      "C:\\Users\\tianj\\Anaconda3\\lib\\site-packages\\ipykernel_launcher.py:2: SettingWithCopyWarning:\n",
      "\n",
      "\n",
      "A value is trying to be set on a copy of a slice from a DataFrame.\n",
      "Try using .loc[row_indexer,col_indexer] = value instead\n",
      "\n",
      "See the caveats in the documentation: https://pandas.pydata.org/pandas-docs/stable/user_guide/indexing.html#returning-a-view-versus-a-copy\n",
      "\n"
     ]
    }
   ],
   "source": [
    "#removing stop words\n",
    "df_test['tokens'] = df_test['tokens'].apply(lambda x: [item for item in x if item not in stop_words])"
   ]
  },
  {
   "cell_type": "code",
   "execution_count": 59,
   "metadata": {},
   "outputs": [
    {
     "data": {
      "text/html": [
       "<div>\n",
       "<style scoped>\n",
       "    .dataframe tbody tr th:only-of-type {\n",
       "        vertical-align: middle;\n",
       "    }\n",
       "\n",
       "    .dataframe tbody tr th {\n",
       "        vertical-align: top;\n",
       "    }\n",
       "\n",
       "    .dataframe thead th {\n",
       "        text-align: right;\n",
       "    }\n",
       "</style>\n",
       "<table border=\"1\" class=\"dataframe\">\n",
       "  <thead>\n",
       "    <tr style=\"text-align: right;\">\n",
       "      <th></th>\n",
       "      <th>artist</th>\n",
       "      <th>song</th>\n",
       "      <th>link</th>\n",
       "      <th>text</th>\n",
       "      <th>genres</th>\n",
       "      <th>rock</th>\n",
       "      <th>singer-songwriter</th>\n",
       "      <th>pop</th>\n",
       "      <th>metal</th>\n",
       "      <th>folk</th>\n",
       "      <th>country</th>\n",
       "      <th>hip hop / rap</th>\n",
       "      <th>text_preprocessed</th>\n",
       "      <th>tokens</th>\n",
       "    </tr>\n",
       "  </thead>\n",
       "  <tbody>\n",
       "    <tr>\n",
       "      <th>41483</th>\n",
       "      <td>Phish</td>\n",
       "      <td>Back On The Train</td>\n",
       "      <td>/p/phish/back+on+the+train_20152042.html</td>\n",
       "      <td>When I jumped off, I had a bucket full of thou...</td>\n",
       "      <td>[blues rock, jam band, roots rock]</td>\n",
       "      <td>1</td>\n",
       "      <td>0</td>\n",
       "      <td>0</td>\n",
       "      <td>0</td>\n",
       "      <td>0</td>\n",
       "      <td>0</td>\n",
       "      <td>0</td>\n",
       "      <td>when jump off have bucket full of thought when...</td>\n",
       "      <td>[jump, bucket, full, thought, first, jump, hol...</td>\n",
       "    </tr>\n",
       "    <tr>\n",
       "      <th>26062</th>\n",
       "      <td>Judds</td>\n",
       "      <td>In My Dreams</td>\n",
       "      <td>/j/judds/in+my+dreams_20076332.html</td>\n",
       "      <td>In my dreams  \\rYou belong to me  \\rShe doesn'...</td>\n",
       "      <td>[country, country dawn, country rock]</td>\n",
       "      <td>1</td>\n",
       "      <td>0</td>\n",
       "      <td>0</td>\n",
       "      <td>0</td>\n",
       "      <td>0</td>\n",
       "      <td>1</td>\n",
       "      <td>0</td>\n",
       "      <td>in my dream you belong to me she doesn mean th...</td>\n",
       "      <td>[dream, belong, mean, thing, never, wear, ring...</td>\n",
       "    </tr>\n",
       "    <tr>\n",
       "      <th>135</th>\n",
       "      <td>Ace Of Base</td>\n",
       "      <td>C'est La Vie</td>\n",
       "      <td>/a/ace+of+base/cest+la+vie_10002096.html</td>\n",
       "      <td>I am as young as I'm feeling  \\rI'm always 21,...</td>\n",
       "      <td>[bubblegum dance, dance pop, eurodance, europo...</td>\n",
       "      <td>1</td>\n",
       "      <td>0</td>\n",
       "      <td>1</td>\n",
       "      <td>0</td>\n",
       "      <td>0</td>\n",
       "      <td>0</td>\n",
       "      <td>0</td>\n",
       "      <td>be as young as feel alway be alway est la vie ...</td>\n",
       "      <td>[young, feel, alway, alway, est, la, vie, est,...</td>\n",
       "    </tr>\n",
       "    <tr>\n",
       "      <th>18079</th>\n",
       "      <td>Glee</td>\n",
       "      <td>Listen</td>\n",
       "      <td>/g/glee/listen_20889265.html</td>\n",
       "      <td>Listen  \\rTo the song here in my heart  \\rA me...</td>\n",
       "      <td>[glee club, hollywood, post-teen pop, viral pop]</td>\n",
       "      <td>0</td>\n",
       "      <td>0</td>\n",
       "      <td>1</td>\n",
       "      <td>0</td>\n",
       "      <td>0</td>\n",
       "      <td>0</td>\n",
       "      <td>0</td>\n",
       "      <td>listen to the song here in my heart melodi sta...</td>\n",
       "      <td>[listen, song, heart, melodi, start, complet, ...</td>\n",
       "    </tr>\n",
       "    <tr>\n",
       "      <th>19557</th>\n",
       "      <td>Hank Snow</td>\n",
       "      <td>Just Keep A Movin'</td>\n",
       "      <td>/h/hank+snow/just+keep+a+movin_20797171.html</td>\n",
       "      <td>Just keep a movin' wherever you were movin'  \\...</td>\n",
       "      <td>[canadian country, canadian singer-songwriter,...</td>\n",
       "      <td>0</td>\n",
       "      <td>1</td>\n",
       "      <td>0</td>\n",
       "      <td>0</td>\n",
       "      <td>0</td>\n",
       "      <td>1</td>\n",
       "      <td>0</td>\n",
       "      <td>just keep movin wherev you be movin they tell ...</td>\n",
       "      <td>[keep, movin, wherev, movin, tell, movin, keep...</td>\n",
       "    </tr>\n",
       "  </tbody>\n",
       "</table>\n",
       "</div>"
      ],
      "text/plain": [
       "            artist                song  \\\n",
       "41483        Phish   Back On The Train   \n",
       "26062        Judds        In My Dreams   \n",
       "135    Ace Of Base        C'est La Vie   \n",
       "18079         Glee              Listen   \n",
       "19557    Hank Snow  Just Keep A Movin'   \n",
       "\n",
       "                                               link  \\\n",
       "41483      /p/phish/back+on+the+train_20152042.html   \n",
       "26062           /j/judds/in+my+dreams_20076332.html   \n",
       "135        /a/ace+of+base/cest+la+vie_10002096.html   \n",
       "18079                  /g/glee/listen_20889265.html   \n",
       "19557  /h/hank+snow/just+keep+a+movin_20797171.html   \n",
       "\n",
       "                                                    text  \\\n",
       "41483  When I jumped off, I had a bucket full of thou...   \n",
       "26062  In my dreams  \\rYou belong to me  \\rShe doesn'...   \n",
       "135    I am as young as I'm feeling  \\rI'm always 21,...   \n",
       "18079  Listen  \\rTo the song here in my heart  \\rA me...   \n",
       "19557  Just keep a movin' wherever you were movin'  \\...   \n",
       "\n",
       "                                                  genres  rock  \\\n",
       "41483                 [blues rock, jam band, roots rock]     1   \n",
       "26062              [country, country dawn, country rock]     1   \n",
       "135    [bubblegum dance, dance pop, eurodance, europo...     1   \n",
       "18079   [glee club, hollywood, post-teen pop, viral pop]     0   \n",
       "19557  [canadian country, canadian singer-songwriter,...     0   \n",
       "\n",
       "       singer-songwriter  pop  metal  folk  country  hip hop / rap  \\\n",
       "41483                  0    0      0     0        0              0   \n",
       "26062                  0    0      0     0        1              0   \n",
       "135                    0    1      0     0        0              0   \n",
       "18079                  0    1      0     0        0              0   \n",
       "19557                  1    0      0     0        1              0   \n",
       "\n",
       "                                       text_preprocessed  \\\n",
       "41483  when jump off have bucket full of thought when...   \n",
       "26062  in my dream you belong to me she doesn mean th...   \n",
       "135    be as young as feel alway be alway est la vie ...   \n",
       "18079  listen to the song here in my heart melodi sta...   \n",
       "19557  just keep movin wherev you be movin they tell ...   \n",
       "\n",
       "                                                  tokens  \n",
       "41483  [jump, bucket, full, thought, first, jump, hol...  \n",
       "26062  [dream, belong, mean, thing, never, wear, ring...  \n",
       "135    [young, feel, alway, alway, est, la, vie, est,...  \n",
       "18079  [listen, song, heart, melodi, start, complet, ...  \n",
       "19557  [keep, movin, wherev, movin, tell, movin, keep...  "
      ]
     },
     "execution_count": 59,
     "metadata": {},
     "output_type": "execute_result"
    }
   ],
   "source": [
    "df_test.head()"
   ]
  },
  {
   "cell_type": "code",
   "execution_count": 60,
   "metadata": {},
   "outputs": [
    {
     "name": "stdout",
     "output_type": "stream",
     "text": [
      "<class 'pandas.core.frame.DataFrame'>\n",
      "Int64Index: 10225 entries, 41483 to 41301\n",
      "Data columns (total 14 columns):\n",
      " #   Column             Non-Null Count  Dtype \n",
      "---  ------             --------------  ----- \n",
      " 0   artist             10225 non-null  object\n",
      " 1   song               10225 non-null  object\n",
      " 2   link               10225 non-null  object\n",
      " 3   text               10225 non-null  object\n",
      " 4   genres             10225 non-null  object\n",
      " 5   rock               10225 non-null  int32 \n",
      " 6   singer-songwriter  10225 non-null  int32 \n",
      " 7   pop                10225 non-null  int32 \n",
      " 8   metal              10225 non-null  int32 \n",
      " 9   folk               10225 non-null  int32 \n",
      " 10  country            10225 non-null  int32 \n",
      " 11  hip hop / rap      10225 non-null  int32 \n",
      " 12  text_preprocessed  10225 non-null  object\n",
      " 13  tokens             10225 non-null  object\n",
      "dtypes: int32(7), object(7)\n",
      "memory usage: 918.7+ KB\n"
     ]
    }
   ],
   "source": [
    "#checking out the data\n",
    "df_test.info()"
   ]
  },
  {
   "cell_type": "code",
   "execution_count": 61,
   "metadata": {},
   "outputs": [
    {
     "name": "stderr",
     "output_type": "stream",
     "text": [
      "C:\\Users\\tianj\\Anaconda3\\lib\\site-packages\\ipykernel_launcher.py:2: SettingWithCopyWarning:\n",
      "\n",
      "\n",
      "A value is trying to be set on a copy of a slice from a DataFrame.\n",
      "Try using .loc[row_indexer,col_indexer] = value instead\n",
      "\n",
      "See the caveats in the documentation: https://pandas.pydata.org/pandas-docs/stable/user_guide/indexing.html#returning-a-view-versus-a-copy\n",
      "\n"
     ]
    }
   ],
   "source": [
    "#turning the stems back into untokenized structrure so that we can run count vector on it\n",
    "df_test['stem_str'] = df_test['tokens'].map(lambda lst: ' '.join(lst))"
   ]
  },
  {
   "cell_type": "code",
   "execution_count": 62,
   "metadata": {},
   "outputs": [
    {
     "data": {
      "text/html": [
       "<div>\n",
       "<style scoped>\n",
       "    .dataframe tbody tr th:only-of-type {\n",
       "        vertical-align: middle;\n",
       "    }\n",
       "\n",
       "    .dataframe tbody tr th {\n",
       "        vertical-align: top;\n",
       "    }\n",
       "\n",
       "    .dataframe thead th {\n",
       "        text-align: right;\n",
       "    }\n",
       "</style>\n",
       "<table border=\"1\" class=\"dataframe\">\n",
       "  <thead>\n",
       "    <tr style=\"text-align: right;\">\n",
       "      <th></th>\n",
       "      <th>artist</th>\n",
       "      <th>song</th>\n",
       "      <th>link</th>\n",
       "      <th>text</th>\n",
       "      <th>genres</th>\n",
       "      <th>rock</th>\n",
       "      <th>singer-songwriter</th>\n",
       "      <th>pop</th>\n",
       "      <th>metal</th>\n",
       "      <th>folk</th>\n",
       "      <th>country</th>\n",
       "      <th>hip hop / rap</th>\n",
       "      <th>text_preprocessed</th>\n",
       "      <th>tokens</th>\n",
       "      <th>stem_str</th>\n",
       "    </tr>\n",
       "  </thead>\n",
       "  <tbody>\n",
       "    <tr>\n",
       "      <th>41483</th>\n",
       "      <td>Phish</td>\n",
       "      <td>Back On The Train</td>\n",
       "      <td>/p/phish/back+on+the+train_20152042.html</td>\n",
       "      <td>When I jumped off, I had a bucket full of thou...</td>\n",
       "      <td>[blues rock, jam band, roots rock]</td>\n",
       "      <td>1</td>\n",
       "      <td>0</td>\n",
       "      <td>0</td>\n",
       "      <td>0</td>\n",
       "      <td>0</td>\n",
       "      <td>0</td>\n",
       "      <td>0</td>\n",
       "      <td>when jump off have bucket full of thought when...</td>\n",
       "      <td>[jump, bucket, full, thought, first, jump, hol...</td>\n",
       "      <td>jump bucket full thought first jump hold bucke...</td>\n",
       "    </tr>\n",
       "    <tr>\n",
       "      <th>26062</th>\n",
       "      <td>Judds</td>\n",
       "      <td>In My Dreams</td>\n",
       "      <td>/j/judds/in+my+dreams_20076332.html</td>\n",
       "      <td>In my dreams  \\rYou belong to me  \\rShe doesn'...</td>\n",
       "      <td>[country, country dawn, country rock]</td>\n",
       "      <td>1</td>\n",
       "      <td>0</td>\n",
       "      <td>0</td>\n",
       "      <td>0</td>\n",
       "      <td>0</td>\n",
       "      <td>1</td>\n",
       "      <td>0</td>\n",
       "      <td>in my dream you belong to me she doesn mean th...</td>\n",
       "      <td>[dream, belong, mean, thing, never, wear, ring...</td>\n",
       "      <td>dream belong mean thing never wear ring dream ...</td>\n",
       "    </tr>\n",
       "    <tr>\n",
       "      <th>135</th>\n",
       "      <td>Ace Of Base</td>\n",
       "      <td>C'est La Vie</td>\n",
       "      <td>/a/ace+of+base/cest+la+vie_10002096.html</td>\n",
       "      <td>I am as young as I'm feeling  \\rI'm always 21,...</td>\n",
       "      <td>[bubblegum dance, dance pop, eurodance, europo...</td>\n",
       "      <td>1</td>\n",
       "      <td>0</td>\n",
       "      <td>1</td>\n",
       "      <td>0</td>\n",
       "      <td>0</td>\n",
       "      <td>0</td>\n",
       "      <td>0</td>\n",
       "      <td>be as young as feel alway be alway est la vie ...</td>\n",
       "      <td>[young, feel, alway, alway, est, la, vie, est,...</td>\n",
       "      <td>young feel alway alway est la vie est la vie e...</td>\n",
       "    </tr>\n",
       "    <tr>\n",
       "      <th>18079</th>\n",
       "      <td>Glee</td>\n",
       "      <td>Listen</td>\n",
       "      <td>/g/glee/listen_20889265.html</td>\n",
       "      <td>Listen  \\rTo the song here in my heart  \\rA me...</td>\n",
       "      <td>[glee club, hollywood, post-teen pop, viral pop]</td>\n",
       "      <td>0</td>\n",
       "      <td>0</td>\n",
       "      <td>1</td>\n",
       "      <td>0</td>\n",
       "      <td>0</td>\n",
       "      <td>0</td>\n",
       "      <td>0</td>\n",
       "      <td>listen to the song here in my heart melodi sta...</td>\n",
       "      <td>[listen, song, heart, melodi, start, complet, ...</td>\n",
       "      <td>listen song heart melodi start complet listen ...</td>\n",
       "    </tr>\n",
       "    <tr>\n",
       "      <th>19557</th>\n",
       "      <td>Hank Snow</td>\n",
       "      <td>Just Keep A Movin'</td>\n",
       "      <td>/h/hank+snow/just+keep+a+movin_20797171.html</td>\n",
       "      <td>Just keep a movin' wherever you were movin'  \\...</td>\n",
       "      <td>[canadian country, canadian singer-songwriter,...</td>\n",
       "      <td>0</td>\n",
       "      <td>1</td>\n",
       "      <td>0</td>\n",
       "      <td>0</td>\n",
       "      <td>0</td>\n",
       "      <td>1</td>\n",
       "      <td>0</td>\n",
       "      <td>just keep movin wherev you be movin they tell ...</td>\n",
       "      <td>[keep, movin, wherev, movin, tell, movin, keep...</td>\n",
       "      <td>keep movin wherev movin tell movin keep goin w...</td>\n",
       "    </tr>\n",
       "  </tbody>\n",
       "</table>\n",
       "</div>"
      ],
      "text/plain": [
       "            artist                song  \\\n",
       "41483        Phish   Back On The Train   \n",
       "26062        Judds        In My Dreams   \n",
       "135    Ace Of Base        C'est La Vie   \n",
       "18079         Glee              Listen   \n",
       "19557    Hank Snow  Just Keep A Movin'   \n",
       "\n",
       "                                               link  \\\n",
       "41483      /p/phish/back+on+the+train_20152042.html   \n",
       "26062           /j/judds/in+my+dreams_20076332.html   \n",
       "135        /a/ace+of+base/cest+la+vie_10002096.html   \n",
       "18079                  /g/glee/listen_20889265.html   \n",
       "19557  /h/hank+snow/just+keep+a+movin_20797171.html   \n",
       "\n",
       "                                                    text  \\\n",
       "41483  When I jumped off, I had a bucket full of thou...   \n",
       "26062  In my dreams  \\rYou belong to me  \\rShe doesn'...   \n",
       "135    I am as young as I'm feeling  \\rI'm always 21,...   \n",
       "18079  Listen  \\rTo the song here in my heart  \\rA me...   \n",
       "19557  Just keep a movin' wherever you were movin'  \\...   \n",
       "\n",
       "                                                  genres  rock  \\\n",
       "41483                 [blues rock, jam band, roots rock]     1   \n",
       "26062              [country, country dawn, country rock]     1   \n",
       "135    [bubblegum dance, dance pop, eurodance, europo...     1   \n",
       "18079   [glee club, hollywood, post-teen pop, viral pop]     0   \n",
       "19557  [canadian country, canadian singer-songwriter,...     0   \n",
       "\n",
       "       singer-songwriter  pop  metal  folk  country  hip hop / rap  \\\n",
       "41483                  0    0      0     0        0              0   \n",
       "26062                  0    0      0     0        1              0   \n",
       "135                    0    1      0     0        0              0   \n",
       "18079                  0    1      0     0        0              0   \n",
       "19557                  1    0      0     0        1              0   \n",
       "\n",
       "                                       text_preprocessed  \\\n",
       "41483  when jump off have bucket full of thought when...   \n",
       "26062  in my dream you belong to me she doesn mean th...   \n",
       "135    be as young as feel alway be alway est la vie ...   \n",
       "18079  listen to the song here in my heart melodi sta...   \n",
       "19557  just keep movin wherev you be movin they tell ...   \n",
       "\n",
       "                                                  tokens  \\\n",
       "41483  [jump, bucket, full, thought, first, jump, hol...   \n",
       "26062  [dream, belong, mean, thing, never, wear, ring...   \n",
       "135    [young, feel, alway, alway, est, la, vie, est,...   \n",
       "18079  [listen, song, heart, melodi, start, complet, ...   \n",
       "19557  [keep, movin, wherev, movin, tell, movin, keep...   \n",
       "\n",
       "                                                stem_str  \n",
       "41483  jump bucket full thought first jump hold bucke...  \n",
       "26062  dream belong mean thing never wear ring dream ...  \n",
       "135    young feel alway alway est la vie est la vie e...  \n",
       "18079  listen song heart melodi start complet listen ...  \n",
       "19557  keep movin wherev movin tell movin keep goin w...  "
      ]
     },
     "execution_count": 62,
     "metadata": {},
     "output_type": "execute_result"
    }
   ],
   "source": [
    "df_test.head()"
   ]
  },
  {
   "cell_type": "markdown",
   "metadata": {},
   "source": [
    "### Vectorization"
   ]
  },
  {
   "cell_type": "code",
   "execution_count": 63,
   "metadata": {},
   "outputs": [
    {
     "name": "stderr",
     "output_type": "stream",
     "text": [
      "C:\\Users\\tianj\\Anaconda3\\lib\\site-packages\\ipykernel_launcher.py:1: SettingWithCopyWarning:\n",
      "\n",
      "\n",
      "A value is trying to be set on a copy of a slice from a DataFrame.\n",
      "Try using .loc[row_indexer,col_indexer] = value instead\n",
      "\n",
      "See the caveats in the documentation: https://pandas.pydata.org/pandas-docs/stable/user_guide/indexing.html#returning-a-view-versus-a-copy\n",
      "\n"
     ]
    },
    {
     "data": {
      "text/html": [
       "<div>\n",
       "<style scoped>\n",
       "    .dataframe tbody tr th:only-of-type {\n",
       "        vertical-align: middle;\n",
       "    }\n",
       "\n",
       "    .dataframe tbody tr th {\n",
       "        vertical-align: top;\n",
       "    }\n",
       "\n",
       "    .dataframe thead th {\n",
       "        text-align: right;\n",
       "    }\n",
       "</style>\n",
       "<table border=\"1\" class=\"dataframe\">\n",
       "  <thead>\n",
       "    <tr style=\"text-align: right;\">\n",
       "      <th></th>\n",
       "      <th>artist</th>\n",
       "      <th>song</th>\n",
       "      <th>link</th>\n",
       "      <th>text</th>\n",
       "      <th>genres</th>\n",
       "      <th>rock</th>\n",
       "      <th>singer-songwriter</th>\n",
       "      <th>pop</th>\n",
       "      <th>metal</th>\n",
       "      <th>folk</th>\n",
       "      <th>country</th>\n",
       "      <th>hip hop / rap</th>\n",
       "      <th>text_preprocessed</th>\n",
       "      <th>tokens</th>\n",
       "      <th>stem_str</th>\n",
       "      <th>tokens2</th>\n",
       "    </tr>\n",
       "  </thead>\n",
       "  <tbody>\n",
       "    <tr>\n",
       "      <th>41483</th>\n",
       "      <td>Phish</td>\n",
       "      <td>Back On The Train</td>\n",
       "      <td>/p/phish/back+on+the+train_20152042.html</td>\n",
       "      <td>When I jumped off, I had a bucket full of thou...</td>\n",
       "      <td>[blues rock, jam band, roots rock]</td>\n",
       "      <td>1</td>\n",
       "      <td>0</td>\n",
       "      <td>0</td>\n",
       "      <td>0</td>\n",
       "      <td>0</td>\n",
       "      <td>0</td>\n",
       "      <td>0</td>\n",
       "      <td>when jump off have bucket full of thought when...</td>\n",
       "      <td>[jump, bucket, full, thought, first, jump, hol...</td>\n",
       "      <td>jump bucket full thought first jump hold bucke...</td>\n",
       "      <td>'jump', 'bucket', 'full', 'thought', 'first', ...</td>\n",
       "    </tr>\n",
       "    <tr>\n",
       "      <th>26062</th>\n",
       "      <td>Judds</td>\n",
       "      <td>In My Dreams</td>\n",
       "      <td>/j/judds/in+my+dreams_20076332.html</td>\n",
       "      <td>In my dreams  \\rYou belong to me  \\rShe doesn'...</td>\n",
       "      <td>[country, country dawn, country rock]</td>\n",
       "      <td>1</td>\n",
       "      <td>0</td>\n",
       "      <td>0</td>\n",
       "      <td>0</td>\n",
       "      <td>0</td>\n",
       "      <td>1</td>\n",
       "      <td>0</td>\n",
       "      <td>in my dream you belong to me she doesn mean th...</td>\n",
       "      <td>[dream, belong, mean, thing, never, wear, ring...</td>\n",
       "      <td>dream belong mean thing never wear ring dream ...</td>\n",
       "      <td>'dream', 'belong', 'mean', 'thing', 'never', '...</td>\n",
       "    </tr>\n",
       "    <tr>\n",
       "      <th>135</th>\n",
       "      <td>Ace Of Base</td>\n",
       "      <td>C'est La Vie</td>\n",
       "      <td>/a/ace+of+base/cest+la+vie_10002096.html</td>\n",
       "      <td>I am as young as I'm feeling  \\rI'm always 21,...</td>\n",
       "      <td>[bubblegum dance, dance pop, eurodance, europo...</td>\n",
       "      <td>1</td>\n",
       "      <td>0</td>\n",
       "      <td>1</td>\n",
       "      <td>0</td>\n",
       "      <td>0</td>\n",
       "      <td>0</td>\n",
       "      <td>0</td>\n",
       "      <td>be as young as feel alway be alway est la vie ...</td>\n",
       "      <td>[young, feel, alway, alway, est, la, vie, est,...</td>\n",
       "      <td>young feel alway alway est la vie est la vie e...</td>\n",
       "      <td>'young', 'feel', 'alway', 'alway', 'est', 'la'...</td>\n",
       "    </tr>\n",
       "    <tr>\n",
       "      <th>18079</th>\n",
       "      <td>Glee</td>\n",
       "      <td>Listen</td>\n",
       "      <td>/g/glee/listen_20889265.html</td>\n",
       "      <td>Listen  \\rTo the song here in my heart  \\rA me...</td>\n",
       "      <td>[glee club, hollywood, post-teen pop, viral pop]</td>\n",
       "      <td>0</td>\n",
       "      <td>0</td>\n",
       "      <td>1</td>\n",
       "      <td>0</td>\n",
       "      <td>0</td>\n",
       "      <td>0</td>\n",
       "      <td>0</td>\n",
       "      <td>listen to the song here in my heart melodi sta...</td>\n",
       "      <td>[listen, song, heart, melodi, start, complet, ...</td>\n",
       "      <td>listen song heart melodi start complet listen ...</td>\n",
       "      <td>'listen', 'song', 'heart', 'melodi', 'start', ...</td>\n",
       "    </tr>\n",
       "    <tr>\n",
       "      <th>19557</th>\n",
       "      <td>Hank Snow</td>\n",
       "      <td>Just Keep A Movin'</td>\n",
       "      <td>/h/hank+snow/just+keep+a+movin_20797171.html</td>\n",
       "      <td>Just keep a movin' wherever you were movin'  \\...</td>\n",
       "      <td>[canadian country, canadian singer-songwriter,...</td>\n",
       "      <td>0</td>\n",
       "      <td>1</td>\n",
       "      <td>0</td>\n",
       "      <td>0</td>\n",
       "      <td>0</td>\n",
       "      <td>1</td>\n",
       "      <td>0</td>\n",
       "      <td>just keep movin wherev you be movin they tell ...</td>\n",
       "      <td>[keep, movin, wherev, movin, tell, movin, keep...</td>\n",
       "      <td>keep movin wherev movin tell movin keep goin w...</td>\n",
       "      <td>'keep', 'movin', 'wherev', 'movin', 'tell', 'm...</td>\n",
       "    </tr>\n",
       "  </tbody>\n",
       "</table>\n",
       "</div>"
      ],
      "text/plain": [
       "            artist                song  \\\n",
       "41483        Phish   Back On The Train   \n",
       "26062        Judds        In My Dreams   \n",
       "135    Ace Of Base        C'est La Vie   \n",
       "18079         Glee              Listen   \n",
       "19557    Hank Snow  Just Keep A Movin'   \n",
       "\n",
       "                                               link  \\\n",
       "41483      /p/phish/back+on+the+train_20152042.html   \n",
       "26062           /j/judds/in+my+dreams_20076332.html   \n",
       "135        /a/ace+of+base/cest+la+vie_10002096.html   \n",
       "18079                  /g/glee/listen_20889265.html   \n",
       "19557  /h/hank+snow/just+keep+a+movin_20797171.html   \n",
       "\n",
       "                                                    text  \\\n",
       "41483  When I jumped off, I had a bucket full of thou...   \n",
       "26062  In my dreams  \\rYou belong to me  \\rShe doesn'...   \n",
       "135    I am as young as I'm feeling  \\rI'm always 21,...   \n",
       "18079  Listen  \\rTo the song here in my heart  \\rA me...   \n",
       "19557  Just keep a movin' wherever you were movin'  \\...   \n",
       "\n",
       "                                                  genres  rock  \\\n",
       "41483                 [blues rock, jam band, roots rock]     1   \n",
       "26062              [country, country dawn, country rock]     1   \n",
       "135    [bubblegum dance, dance pop, eurodance, europo...     1   \n",
       "18079   [glee club, hollywood, post-teen pop, viral pop]     0   \n",
       "19557  [canadian country, canadian singer-songwriter,...     0   \n",
       "\n",
       "       singer-songwriter  pop  metal  folk  country  hip hop / rap  \\\n",
       "41483                  0    0      0     0        0              0   \n",
       "26062                  0    0      0     0        1              0   \n",
       "135                    0    1      0     0        0              0   \n",
       "18079                  0    1      0     0        0              0   \n",
       "19557                  1    0      0     0        1              0   \n",
       "\n",
       "                                       text_preprocessed  \\\n",
       "41483  when jump off have bucket full of thought when...   \n",
       "26062  in my dream you belong to me she doesn mean th...   \n",
       "135    be as young as feel alway be alway est la vie ...   \n",
       "18079  listen to the song here in my heart melodi sta...   \n",
       "19557  just keep movin wherev you be movin they tell ...   \n",
       "\n",
       "                                                  tokens  \\\n",
       "41483  [jump, bucket, full, thought, first, jump, hol...   \n",
       "26062  [dream, belong, mean, thing, never, wear, ring...   \n",
       "135    [young, feel, alway, alway, est, la, vie, est,...   \n",
       "18079  [listen, song, heart, melodi, start, complet, ...   \n",
       "19557  [keep, movin, wherev, movin, tell, movin, keep...   \n",
       "\n",
       "                                                stem_str  \\\n",
       "41483  jump bucket full thought first jump hold bucke...   \n",
       "26062  dream belong mean thing never wear ring dream ...   \n",
       "135    young feel alway alway est la vie est la vie e...   \n",
       "18079  listen song heart melodi start complet listen ...   \n",
       "19557  keep movin wherev movin tell movin keep goin w...   \n",
       "\n",
       "                                                 tokens2  \n",
       "41483  'jump', 'bucket', 'full', 'thought', 'first', ...  \n",
       "26062  'dream', 'belong', 'mean', 'thing', 'never', '...  \n",
       "135    'young', 'feel', 'alway', 'alway', 'est', 'la'...  \n",
       "18079  'listen', 'song', 'heart', 'melodi', 'start', ...  \n",
       "19557  'keep', 'movin', 'wherev', 'movin', 'tell', 'm...  "
      ]
     },
     "execution_count": 63,
     "metadata": {},
     "output_type": "execute_result"
    }
   ],
   "source": [
    "df_test['tokens2']=df_test.tokens.apply(lambda x:str(x).strip('[]'))\n",
    "df_test.head()   "
   ]
  },
  {
   "cell_type": "markdown",
   "metadata": {},
   "source": [
    "## Doc2Vec"
   ]
  },
  {
   "cell_type": "code",
   "execution_count": 64,
   "metadata": {},
   "outputs": [],
   "source": [
    "test_tokens_documents = [TaggedDocument(doc, [i]) for i, doc in enumerate(df_test.tokens)]"
   ]
  },
  {
   "cell_type": "code",
   "execution_count": 65,
   "metadata": {},
   "outputs": [
    {
     "data": {
      "text/plain": [
       "TaggedDocument(words=['dream', 'belong', 'mean', 'thing', 'never', 'wear', 'ring', 'dream', 'greatest', 'wish', 'come', 'true', 'arm', 'hold', 'dream', 'hear', 'laughter', 'tast', 'lip', 'feel', 'trembl', 'fingertip', 'night', 'mine', 'morn', 'find', 'go', 'dream', 'soul', 'wide', 'awak', 'crave', 'love', 'make', 'dream', 'dream', 'hide', 'thi', 'love', 'steal', 'til', 'feel', 'heart', 'feel', 'dream', 'dream', 'dream', 'dream'], tags=[1])"
      ]
     },
     "execution_count": 65,
     "metadata": {},
     "output_type": "execute_result"
    }
   ],
   "source": [
    "test_tokens_documents[1]"
   ]
  },
  {
   "cell_type": "code",
   "execution_count": 66,
   "metadata": {},
   "outputs": [],
   "source": [
    "model_test = gensim.models.doc2vec.Doc2Vec(test_tokens_documents,\n",
    "                                            vector_size = 50, \n",
    "                                            min_count = 2, \n",
    "                                            epochs = 20) #Takes 5min"
   ]
  },
  {
   "cell_type": "code",
   "execution_count": 67,
   "metadata": {},
   "outputs": [],
   "source": [
    "model_test.train(test_tokens_documents, \n",
    "                  total_examples = model_test.corpus_count, \n",
    "                  epochs = model_test.epochs) #Takes 5min"
   ]
  },
  {
   "cell_type": "code",
   "execution_count": 68,
   "metadata": {},
   "outputs": [
    {
     "data": {
      "text/plain": [
       "array([ 0.8138872 , -1.7641448 , -0.22665267,  1.9297285 ,  0.7225096 ,\n",
       "        0.5510254 , -0.05726178,  1.0216082 , -0.13309771,  1.6064451 ,\n",
       "       -0.8401656 , -1.250226  ,  1.4324117 ,  1.1221242 , -0.05193274,\n",
       "       -0.43993372,  0.6590731 , -1.0130196 ,  0.11711044,  0.88469726,\n",
       "       -0.01083186, -0.0249809 ,  0.16842951,  1.3415606 ,  0.00861675,\n",
       "        0.8624664 , -0.19954541, -0.749401  ,  1.0246379 ,  0.67150587,\n",
       "       -0.04709282, -0.58201206,  1.5655787 , -0.03664024,  0.91448194,\n",
       "        0.27599388, -0.12488215, -0.7240846 ,  0.5717828 , -0.5992689 ,\n",
       "        0.21970074, -2.0817482 ,  1.3465855 ,  1.3254272 ,  1.8047976 ,\n",
       "        1.5850012 , -0.1469089 ,  0.6265584 , -0.87075365,  0.42316055],\n",
       "      dtype=float32)"
      ]
     },
     "execution_count": 68,
     "metadata": {},
     "output_type": "execute_result"
    }
   ],
   "source": [
    "model_test.infer_vector(test_tokens_documents[0].words, steps=20) #This changes every time. But within a certain range."
   ]
  },
  {
   "cell_type": "code",
   "execution_count": 69,
   "metadata": {},
   "outputs": [],
   "source": [
    "def vector_for_learning(model, input_docs):\n",
    "    sents = input_docs\n",
    "    targets, feature_vectors = zip(*[(doc.tags[0], model.infer_vector(doc.words, steps=20)) for doc in sents])\n",
    "    return targets, feature_vectors"
   ]
  },
  {
   "cell_type": "code",
   "execution_count": 70,
   "metadata": {},
   "outputs": [],
   "source": [
    "target_test, veclyrics_doc2vec_test = vector_for_learning(model_test, test_tokens_documents) #Takes 5min"
   ]
  },
  {
   "cell_type": "code",
   "execution_count": 71,
   "metadata": {},
   "outputs": [
    {
     "data": {
      "text/plain": [
       "array([ 0.80030984, -1.8968158 , -0.20183174,  2.038949  ,  0.6700128 ,\n",
       "        0.80359936, -0.26136535,  0.8038724 , -0.01780331,  1.6143647 ,\n",
       "       -0.66266567, -1.3268974 ,  1.4345216 ,  1.2054638 ,  0.06268109,\n",
       "       -0.29674092,  0.84357643, -0.9477247 ,  0.10439444,  0.8167453 ,\n",
       "       -0.02420871, -0.0391538 ,  0.11021158,  1.4326952 ,  0.01581643,\n",
       "        1.0310534 , -0.2578711 , -0.6832181 ,  1.2554826 ,  0.5251921 ,\n",
       "        0.09430447, -0.37911037,  1.4898267 , -0.3236018 ,  0.9216325 ,\n",
       "        0.07969686, -0.20032321, -0.287201  ,  0.6446327 , -0.607193  ,\n",
       "        0.2697619 , -2.0968423 ,  1.360646  ,  1.39385   ,  1.6997437 ,\n",
       "        1.6787548 , -0.0832739 ,  0.7899511 , -0.6758349 ,  0.26415417],\n",
       "      dtype=float32)"
      ]
     },
     "execution_count": 71,
     "metadata": {},
     "output_type": "execute_result"
    }
   ],
   "source": [
    "veclyrics_doc2vec_test[0]"
   ]
  },
  {
   "cell_type": "code",
   "execution_count": 72,
   "metadata": {},
   "outputs": [
    {
     "data": {
      "text/plain": [
       "tuple"
      ]
     },
     "execution_count": 72,
     "metadata": {},
     "output_type": "execute_result"
    }
   ],
   "source": [
    "type(veclyrics_doc2vec_test)"
   ]
  },
  {
   "cell_type": "code",
   "execution_count": 73,
   "metadata": {},
   "outputs": [
    {
     "data": {
      "text/plain": [
       "10225"
      ]
     },
     "execution_count": 73,
     "metadata": {},
     "output_type": "execute_result"
    }
   ],
   "source": [
    "len(veclyrics_doc2vec_test)"
   ]
  },
  {
   "cell_type": "markdown",
   "metadata": {},
   "source": [
    "## Proof of Concept of Doc2Vec for Prediction"
   ]
  },
  {
   "cell_type": "code",
   "execution_count": 74,
   "metadata": {},
   "outputs": [],
   "source": [
    "clf = LogisticRegression().fit(veclyrics_doc2vec_train, df_train['rock'])\n",
    "y_pred = clf.predict(veclyrics_doc2vec_test)"
   ]
  },
  {
   "cell_type": "code",
   "execution_count": 75,
   "metadata": {},
   "outputs": [
    {
     "name": "stdout",
     "output_type": "stream",
     "text": [
      "Logistic Regression Accuracy: 0.7640097799511002\n"
     ]
    }
   ],
   "source": [
    "print('Logistic Regression Accuracy:', accuracy_score(df_test['rock'], y_pred))"
   ]
  },
  {
   "cell_type": "code",
   "execution_count": 76,
   "metadata": {},
   "outputs": [
    {
     "name": "stdout",
     "output_type": "stream",
     "text": [
      "              precision    recall  f1-score   support\n",
      "\n",
      "           0       0.56      0.09      0.15      2459\n",
      "           1       0.77      0.98      0.86      7766\n",
      "\n",
      "    accuracy                           0.76     10225\n",
      "   macro avg       0.67      0.53      0.51     10225\n",
      "weighted avg       0.72      0.76      0.69     10225\n",
      "\n"
     ]
    }
   ],
   "source": [
    "print(classification_report(df_test['rock'], y_pred))"
   ]
  },
  {
   "cell_type": "markdown",
   "metadata": {},
   "source": [
    "### Note\n",
    "Unlike with TF-IDF, the vectorized output using Doc2Vec is a tuple (nd-array) instead of a spare matrix"
   ]
  },
  {
   "cell_type": "markdown",
   "metadata": {},
   "source": [
    "## Save vectorized lyrics and responses for train and test sets"
   ]
  },
  {
   "cell_type": "markdown",
   "metadata": {},
   "source": [
    "#### Pickle vectorized lyrics"
   ]
  },
  {
   "cell_type": "code",
   "execution_count": 77,
   "metadata": {},
   "outputs": [],
   "source": [
    "pickle.dump(veclyrics_doc2vec_train, open( \"veclyrics_doc2vec_train.pkl\", \"wb\" ))"
   ]
  },
  {
   "cell_type": "code",
   "execution_count": 78,
   "metadata": {},
   "outputs": [],
   "source": [
    "pickle.dump(veclyrics_doc2vec_test, open( \"veclyrics_doc2vec_test.pkl\", \"wb\" ))"
   ]
  },
  {
   "cell_type": "markdown",
   "metadata": {},
   "source": [
    "#### Format and pickle genre response"
   ]
  },
  {
   "cell_type": "code",
   "execution_count": 79,
   "metadata": {},
   "outputs": [],
   "source": [
    "df_train = df_train.drop(['link','text','text_preprocessed','stem_str','tokens'], axis = 1)\n",
    "df_test = df_test.drop(['link','text','text_preprocessed','stem_str','tokens'], axis = 1)"
   ]
  },
  {
   "cell_type": "code",
   "execution_count": 80,
   "metadata": {},
   "outputs": [],
   "source": [
    "df_train.rename(columns={'tokens2':'tokenstring'}, inplace=True)\n",
    "df_test.rename(columns={'tokens2':'tokenstring'}, inplace=True)"
   ]
  },
  {
   "cell_type": "code",
   "execution_count": 81,
   "metadata": {},
   "outputs": [
    {
     "data": {
      "text/html": [
       "<div>\n",
       "<style scoped>\n",
       "    .dataframe tbody tr th:only-of-type {\n",
       "        vertical-align: middle;\n",
       "    }\n",
       "\n",
       "    .dataframe tbody tr th {\n",
       "        vertical-align: top;\n",
       "    }\n",
       "\n",
       "    .dataframe thead th {\n",
       "        text-align: right;\n",
       "    }\n",
       "</style>\n",
       "<table border=\"1\" class=\"dataframe\">\n",
       "  <thead>\n",
       "    <tr style=\"text-align: right;\">\n",
       "      <th></th>\n",
       "      <th>artist</th>\n",
       "      <th>song</th>\n",
       "      <th>genres</th>\n",
       "      <th>rock</th>\n",
       "      <th>singer-songwriter</th>\n",
       "      <th>pop</th>\n",
       "      <th>metal</th>\n",
       "      <th>folk</th>\n",
       "      <th>country</th>\n",
       "      <th>hip hop / rap</th>\n",
       "      <th>tokenstring</th>\n",
       "    </tr>\n",
       "  </thead>\n",
       "  <tbody>\n",
       "    <tr>\n",
       "      <th>40373</th>\n",
       "      <td>Paul Simon</td>\n",
       "      <td>Baby Driver</td>\n",
       "      <td>[classic rock, folk, folk rock, mellow gold, p...</td>\n",
       "      <td>1</td>\n",
       "      <td>1</td>\n",
       "      <td>0</td>\n",
       "      <td>0</td>\n",
       "      <td>1</td>\n",
       "      <td>0</td>\n",
       "      <td>0</td>\n",
       "      <td>'daddi', 'famili', 'bassman', 'mamma', 'engin'...</td>\n",
       "    </tr>\n",
       "    <tr>\n",
       "      <th>41147</th>\n",
       "      <td>Peter Gabriel</td>\n",
       "      <td>San Jacinto</td>\n",
       "      <td>[album rock, art pop, art rock, classic rock, ...</td>\n",
       "      <td>1</td>\n",
       "      <td>0</td>\n",
       "      <td>1</td>\n",
       "      <td>0</td>\n",
       "      <td>0</td>\n",
       "      <td>0</td>\n",
       "      <td>0</td>\n",
       "      <td>'thick', 'cloud', 'steam', 'rise', 'hiss', 'st...</td>\n",
       "    </tr>\n",
       "    <tr>\n",
       "      <th>26951</th>\n",
       "      <td>Keith Urban</td>\n",
       "      <td>Sometimes Angels Can't Fly</td>\n",
       "      <td>[australian country, australian pop, contempor...</td>\n",
       "      <td>0</td>\n",
       "      <td>0</td>\n",
       "      <td>1</td>\n",
       "      <td>0</td>\n",
       "      <td>0</td>\n",
       "      <td>1</td>\n",
       "      <td>0</td>\n",
       "      <td>'somewher', 'tonight', 'somebodi', 'cryin', 'f...</td>\n",
       "    </tr>\n",
       "    <tr>\n",
       "      <th>32586</th>\n",
       "      <td>Marilyn Manson</td>\n",
       "      <td>Apple Of Sodom</td>\n",
       "      <td>[alternative metal, industrial, industrial met...</td>\n",
       "      <td>1</td>\n",
       "      <td>0</td>\n",
       "      <td>0</td>\n",
       "      <td>1</td>\n",
       "      <td>0</td>\n",
       "      <td>0</td>\n",
       "      <td>0</td>\n",
       "      <td>'find', 'center', 'fruit', 'late', 'center', '...</td>\n",
       "    </tr>\n",
       "    <tr>\n",
       "      <th>28650</th>\n",
       "      <td>Kiss</td>\n",
       "      <td>I've Had Enough</td>\n",
       "      <td>[album rock, classic rock, glam rock, hard roc...</td>\n",
       "      <td>1</td>\n",
       "      <td>0</td>\n",
       "      <td>0</td>\n",
       "      <td>1</td>\n",
       "      <td>0</td>\n",
       "      <td>0</td>\n",
       "      <td>0</td>\n",
       "      <td>'mani', 'time', 'lie', 'truth', 'eye', 'treat'...</td>\n",
       "    </tr>\n",
       "  </tbody>\n",
       "</table>\n",
       "</div>"
      ],
      "text/plain": [
       "               artist                        song  \\\n",
       "40373      Paul Simon                 Baby Driver   \n",
       "41147   Peter Gabriel                 San Jacinto   \n",
       "26951     Keith Urban  Sometimes Angels Can't Fly   \n",
       "32586  Marilyn Manson              Apple Of Sodom   \n",
       "28650            Kiss             I've Had Enough   \n",
       "\n",
       "                                                  genres  rock  \\\n",
       "40373  [classic rock, folk, folk rock, mellow gold, p...     1   \n",
       "41147  [album rock, art pop, art rock, classic rock, ...     1   \n",
       "26951  [australian country, australian pop, contempor...     0   \n",
       "32586  [alternative metal, industrial, industrial met...     1   \n",
       "28650  [album rock, classic rock, glam rock, hard roc...     1   \n",
       "\n",
       "       singer-songwriter  pop  metal  folk  country  hip hop / rap  \\\n",
       "40373                  1    0      0     1        0              0   \n",
       "41147                  0    1      0     0        0              0   \n",
       "26951                  0    1      0     0        1              0   \n",
       "32586                  0    0      1     0        0              0   \n",
       "28650                  0    0      1     0        0              0   \n",
       "\n",
       "                                             tokenstring  \n",
       "40373  'daddi', 'famili', 'bassman', 'mamma', 'engin'...  \n",
       "41147  'thick', 'cloud', 'steam', 'rise', 'hiss', 'st...  \n",
       "26951  'somewher', 'tonight', 'somebodi', 'cryin', 'f...  \n",
       "32586  'find', 'center', 'fruit', 'late', 'center', '...  \n",
       "28650  'mani', 'time', 'lie', 'truth', 'eye', 'treat'...  "
      ]
     },
     "execution_count": 81,
     "metadata": {},
     "output_type": "execute_result"
    }
   ],
   "source": [
    "df_train.head()"
   ]
  },
  {
   "cell_type": "code",
   "execution_count": 82,
   "metadata": {},
   "outputs": [
    {
     "data": {
      "text/html": [
       "<div>\n",
       "<style scoped>\n",
       "    .dataframe tbody tr th:only-of-type {\n",
       "        vertical-align: middle;\n",
       "    }\n",
       "\n",
       "    .dataframe tbody tr th {\n",
       "        vertical-align: top;\n",
       "    }\n",
       "\n",
       "    .dataframe thead th {\n",
       "        text-align: right;\n",
       "    }\n",
       "</style>\n",
       "<table border=\"1\" class=\"dataframe\">\n",
       "  <thead>\n",
       "    <tr style=\"text-align: right;\">\n",
       "      <th></th>\n",
       "      <th>artist</th>\n",
       "      <th>song</th>\n",
       "      <th>genres</th>\n",
       "      <th>rock</th>\n",
       "      <th>singer-songwriter</th>\n",
       "      <th>pop</th>\n",
       "      <th>metal</th>\n",
       "      <th>folk</th>\n",
       "      <th>country</th>\n",
       "      <th>hip hop / rap</th>\n",
       "      <th>tokenstring</th>\n",
       "    </tr>\n",
       "  </thead>\n",
       "  <tbody>\n",
       "    <tr>\n",
       "      <th>41483</th>\n",
       "      <td>Phish</td>\n",
       "      <td>Back On The Train</td>\n",
       "      <td>[blues rock, jam band, roots rock]</td>\n",
       "      <td>1</td>\n",
       "      <td>0</td>\n",
       "      <td>0</td>\n",
       "      <td>0</td>\n",
       "      <td>0</td>\n",
       "      <td>0</td>\n",
       "      <td>0</td>\n",
       "      <td>'jump', 'bucket', 'full', 'thought', 'first', ...</td>\n",
       "    </tr>\n",
       "    <tr>\n",
       "      <th>26062</th>\n",
       "      <td>Judds</td>\n",
       "      <td>In My Dreams</td>\n",
       "      <td>[country, country dawn, country rock]</td>\n",
       "      <td>1</td>\n",
       "      <td>0</td>\n",
       "      <td>0</td>\n",
       "      <td>0</td>\n",
       "      <td>0</td>\n",
       "      <td>1</td>\n",
       "      <td>0</td>\n",
       "      <td>'dream', 'belong', 'mean', 'thing', 'never', '...</td>\n",
       "    </tr>\n",
       "    <tr>\n",
       "      <th>135</th>\n",
       "      <td>Ace Of Base</td>\n",
       "      <td>C'est La Vie</td>\n",
       "      <td>[bubblegum dance, dance pop, eurodance, europo...</td>\n",
       "      <td>1</td>\n",
       "      <td>0</td>\n",
       "      <td>1</td>\n",
       "      <td>0</td>\n",
       "      <td>0</td>\n",
       "      <td>0</td>\n",
       "      <td>0</td>\n",
       "      <td>'young', 'feel', 'alway', 'alway', 'est', 'la'...</td>\n",
       "    </tr>\n",
       "    <tr>\n",
       "      <th>18079</th>\n",
       "      <td>Glee</td>\n",
       "      <td>Listen</td>\n",
       "      <td>[glee club, hollywood, post-teen pop, viral pop]</td>\n",
       "      <td>0</td>\n",
       "      <td>0</td>\n",
       "      <td>1</td>\n",
       "      <td>0</td>\n",
       "      <td>0</td>\n",
       "      <td>0</td>\n",
       "      <td>0</td>\n",
       "      <td>'listen', 'song', 'heart', 'melodi', 'start', ...</td>\n",
       "    </tr>\n",
       "    <tr>\n",
       "      <th>19557</th>\n",
       "      <td>Hank Snow</td>\n",
       "      <td>Just Keep A Movin'</td>\n",
       "      <td>[canadian country, canadian singer-songwriter,...</td>\n",
       "      <td>0</td>\n",
       "      <td>1</td>\n",
       "      <td>0</td>\n",
       "      <td>0</td>\n",
       "      <td>0</td>\n",
       "      <td>1</td>\n",
       "      <td>0</td>\n",
       "      <td>'keep', 'movin', 'wherev', 'movin', 'tell', 'm...</td>\n",
       "    </tr>\n",
       "  </tbody>\n",
       "</table>\n",
       "</div>"
      ],
      "text/plain": [
       "            artist                song  \\\n",
       "41483        Phish   Back On The Train   \n",
       "26062        Judds        In My Dreams   \n",
       "135    Ace Of Base        C'est La Vie   \n",
       "18079         Glee              Listen   \n",
       "19557    Hank Snow  Just Keep A Movin'   \n",
       "\n",
       "                                                  genres  rock  \\\n",
       "41483                 [blues rock, jam band, roots rock]     1   \n",
       "26062              [country, country dawn, country rock]     1   \n",
       "135    [bubblegum dance, dance pop, eurodance, europo...     1   \n",
       "18079   [glee club, hollywood, post-teen pop, viral pop]     0   \n",
       "19557  [canadian country, canadian singer-songwriter,...     0   \n",
       "\n",
       "       singer-songwriter  pop  metal  folk  country  hip hop / rap  \\\n",
       "41483                  0    0      0     0        0              0   \n",
       "26062                  0    0      0     0        1              0   \n",
       "135                    0    1      0     0        0              0   \n",
       "18079                  0    1      0     0        0              0   \n",
       "19557                  1    0      0     0        1              0   \n",
       "\n",
       "                                             tokenstring  \n",
       "41483  'jump', 'bucket', 'full', 'thought', 'first', ...  \n",
       "26062  'dream', 'belong', 'mean', 'thing', 'never', '...  \n",
       "135    'young', 'feel', 'alway', 'alway', 'est', 'la'...  \n",
       "18079  'listen', 'song', 'heart', 'melodi', 'start', ...  \n",
       "19557  'keep', 'movin', 'wherev', 'movin', 'tell', 'm...  "
      ]
     },
     "execution_count": 82,
     "metadata": {},
     "output_type": "execute_result"
    }
   ],
   "source": [
    "df_test.head()"
   ]
  },
  {
   "cell_type": "code",
   "execution_count": 83,
   "metadata": {},
   "outputs": [],
   "source": [
    "df_train.to_pickle(\"response_doc2vec_train.pkl\")\n",
    "df_test.to_pickle(\"response_doc2vec_test.pkl\")"
   ]
  }
 ],
 "metadata": {
  "kernelspec": {
   "display_name": "Python 3",
   "language": "python",
   "name": "python3"
  },
  "language_info": {
   "codemirror_mode": {
    "name": "ipython",
    "version": 3
   },
   "file_extension": ".py",
   "mimetype": "text/x-python",
   "name": "python",
   "nbconvert_exporter": "python",
   "pygments_lexer": "ipython3",
   "version": "3.7.3"
  }
 },
 "nbformat": 4,
 "nbformat_minor": 4
}
